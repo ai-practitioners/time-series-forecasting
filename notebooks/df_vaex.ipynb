{
 "cells": [
  {
   "attachments": {},
   "cell_type": "markdown",
   "metadata": {},
   "source": [
    "## imports"
   ]
  },
  {
   "cell_type": "code",
   "execution_count": 1,
   "metadata": {},
   "outputs": [],
   "source": [
    "import pandas as pd\n",
    "import vaex as vx\n",
    "import numpy as np\n",
    "import matplotlib.pyplot as plt"
   ]
  },
  {
   "attachments": {},
   "cell_type": "markdown",
   "metadata": {},
   "source": [
    "## read CSVs via vaex"
   ]
  },
  {
   "cell_type": "code",
   "execution_count": 2,
   "metadata": {},
   "outputs": [],
   "source": [
    "holidays=vx.from_csv(\"../data/raw/holidays_events.csv\", parse_dates=['date'], infer_datetime_format=True)\n",
    "stores=vx.from_csv(\"../data/raw/stores.csv\")\n",
    "transactions=vx.from_csv(\"../data/raw/transactions.csv\", parse_dates=['date'], infer_datetime_format=True)\n",
    "oil=vx.from_csv(\"../data/raw/oil.csv\", parse_dates=['date'], infer_datetime_format=True)\n",
    "train=vx.from_csv(\"../data/raw/train.csv\", parse_dates=['date'], infer_datetime_format=True)\n",
    "test=vx.from_csv(\"../data/raw/test.csv\", parse_dates=['date'], infer_datetime_format=True)"
   ]
  },
  {
   "cell_type": "code",
   "execution_count": 3,
   "metadata": {},
   "outputs": [
    {
     "data": {
      "text/plain": [
       "Expression = date\n",
       "Length: 350 dtype: datetime64[ns] (column)\n",
       "------------------------------------------\n",
       "  0  2012-03-02 00:00:00.000000000\n",
       "  1  2012-04-01 00:00:00.000000000\n",
       "  2  2012-04-12 00:00:00.000000000\n",
       "  3  2012-04-14 00:00:00.000000000\n",
       "  4  2012-04-21 00:00:00.000000000\n",
       "               ...                \n",
       "345  2017-12-22 00:00:00.000000000\n",
       "346  2017-12-23 00:00:00.000000000\n",
       "347  2017-12-24 00:00:00.000000000\n",
       "348  2017-12-25 00:00:00.000000000\n",
       "349  2017-12-26 00:00:00.000000000"
      ]
     },
     "execution_count": 3,
     "metadata": {},
     "output_type": "execute_result"
    }
   ],
   "source": [
    "holidays.date"
   ]
  },
  {
   "cell_type": "code",
   "execution_count": 4,
   "metadata": {},
   "outputs": [],
   "source": [
    "# with vx.open 'date'=date32[day], has NotImplementedError: Cannot convert date32[day] when doing joins, try with vx.from_csv insteal\n",
    "# holidays=vx.open(\"../data/raw/holidays_events.csv\")\n",
    "# stores=vx.open(\"../data/raw/stores.csv\")\n",
    "# transactions=vx.open(\"../data/raw/transactions.csv\")\n",
    "# oil=vx.open(\"../data/raw/oil.csv\")\n",
    "# train=vx.open(\"../data/raw/train.csv\")\n",
    "# test=vx.open(\"../data/raw/test.csv\")\n"
   ]
  },
  {
   "attachments": {},
   "cell_type": "markdown",
   "metadata": {},
   "source": [
    "## Descriptive analysis of each DF"
   ]
  },
  {
   "cell_type": "code",
   "execution_count": 5,
   "metadata": {},
   "outputs": [
    {
     "name": "stdout",
     "output_type": "stream",
     "text": [
      "DF: holidays, shape: (350, 6), columns: ['date', 'type', 'locale', 'locale_name', 'description', 'transferred']\n"
     ]
    },
    {
     "data": {
      "text/html": [
       "<style>.vaex-description pre {\n",
       "          max-width : 450px;\n",
       "          white-space : nowrap;\n",
       "          overflow : hidden;\n",
       "          text-overflow: ellipsis;\n",
       "        }\n",
       "\n",
       "        .vex-description pre:hover {\n",
       "          max-width : initial;\n",
       "          white-space: pre;\n",
       "        }</style>"
      ],
      "text/plain": [
       "<IPython.core.display.HTML object>"
      ]
     },
     "metadata": {},
     "output_type": "display_data"
    },
    {
     "data": {
      "text/html": [
       "<div><h2>no-name</h2> <b>rows</b>: 350</div><h2>Columns:</h2><table class='table-striped'><thead><tr><th>column</th><th>type</th><th>unit</th><th>description</th><th>expression</th></tr></thead><tr><td>date</td><td>datetime64[ns]</td><td></td><td ><pre></pre></td><td></td></tr><tr><td>type</td><td>str</td><td></td><td ><pre></pre></td><td></td></tr><tr><td>locale</td><td>str</td><td></td><td ><pre></pre></td><td></td></tr><tr><td>locale_name</td><td>str</td><td></td><td ><pre></pre></td><td></td></tr><tr><td>description</td><td>str</td><td></td><td ><pre></pre></td><td></td></tr><tr><td>transferred</td><td>bool</td><td></td><td ><pre></pre></td><td></td></tr></table><h2>Data:</h2><table>\n",
       "<thead>\n",
       "<tr><th>#                              </th><th>date                         </th><th>type      </th><th>locale  </th><th>locale_name  </th><th>description                  </th><th>transferred  </th></tr>\n",
       "</thead>\n",
       "<tbody>\n",
       "<tr><td><i style='opacity: 0.6'>0</i>  </td><td>2012-03-02 00:00:00.000000000</td><td>Holiday   </td><td>Local   </td><td>Manta        </td><td>Fundacion de Manta           </td><td>False        </td></tr>\n",
       "<tr><td><i style='opacity: 0.6'>1</i>  </td><td>2012-04-01 00:00:00.000000000</td><td>Holiday   </td><td>Regional</td><td>Cotopaxi     </td><td>Provincializacion de Cotopaxi</td><td>False        </td></tr>\n",
       "<tr><td><i style='opacity: 0.6'>2</i>  </td><td>2012-04-12 00:00:00.000000000</td><td>Holiday   </td><td>Local   </td><td>Cuenca       </td><td>Fundacion de Cuenca          </td><td>False        </td></tr>\n",
       "<tr><td><i style='opacity: 0.6'>3</i>  </td><td>2012-04-14 00:00:00.000000000</td><td>Holiday   </td><td>Local   </td><td>Libertad     </td><td>Cantonizacion de Libertad    </td><td>False        </td></tr>\n",
       "<tr><td><i style='opacity: 0.6'>4</i>  </td><td>2012-04-21 00:00:00.000000000</td><td>Holiday   </td><td>Local   </td><td>Riobamba     </td><td>Cantonizacion de Riobamba    </td><td>False        </td></tr>\n",
       "<tr><td>...                            </td><td>...                          </td><td>...       </td><td>...     </td><td>...          </td><td>...                          </td><td>...          </td></tr>\n",
       "<tr><td><i style='opacity: 0.6'>345</i></td><td>2017-12-22 00:00:00.000000000</td><td>Additional</td><td>National</td><td>Ecuador      </td><td>Navidad-3                    </td><td>False        </td></tr>\n",
       "<tr><td><i style='opacity: 0.6'>346</i></td><td>2017-12-23 00:00:00.000000000</td><td>Additional</td><td>National</td><td>Ecuador      </td><td>Navidad-2                    </td><td>False        </td></tr>\n",
       "<tr><td><i style='opacity: 0.6'>347</i></td><td>2017-12-24 00:00:00.000000000</td><td>Additional</td><td>National</td><td>Ecuador      </td><td>Navidad-1                    </td><td>False        </td></tr>\n",
       "<tr><td><i style='opacity: 0.6'>348</i></td><td>2017-12-25 00:00:00.000000000</td><td>Holiday   </td><td>National</td><td>Ecuador      </td><td>Navidad                      </td><td>False        </td></tr>\n",
       "<tr><td><i style='opacity: 0.6'>349</i></td><td>2017-12-26 00:00:00.000000000</td><td>Additional</td><td>National</td><td>Ecuador      </td><td>Navidad+1                    </td><td>False        </td></tr>\n",
       "</tbody>\n",
       "</table>"
      ],
      "text/plain": [
       "<IPython.core.display.HTML object>"
      ]
     },
     "metadata": {},
     "output_type": "display_data"
    },
    {
     "name": "stdout",
     "output_type": "stream",
     "text": [
      "DF: stores, shape: (54, 5), columns: ['store_nbr', 'city', 'state', 'type', 'cluster']\n"
     ]
    },
    {
     "data": {
      "text/html": [
       "<style>.vaex-description pre {\n",
       "          max-width : 450px;\n",
       "          white-space : nowrap;\n",
       "          overflow : hidden;\n",
       "          text-overflow: ellipsis;\n",
       "        }\n",
       "\n",
       "        .vex-description pre:hover {\n",
       "          max-width : initial;\n",
       "          white-space: pre;\n",
       "        }</style>"
      ],
      "text/plain": [
       "<IPython.core.display.HTML object>"
      ]
     },
     "metadata": {},
     "output_type": "display_data"
    },
    {
     "data": {
      "text/html": [
       "<div><h2>no-name</h2> <b>rows</b>: 54</div><h2>Columns:</h2><table class='table-striped'><thead><tr><th>column</th><th>type</th><th>unit</th><th>description</th><th>expression</th></tr></thead><tr><td>store_nbr</td><td>int64</td><td></td><td ><pre></pre></td><td></td></tr><tr><td>city</td><td>str</td><td></td><td ><pre></pre></td><td></td></tr><tr><td>state</td><td>str</td><td></td><td ><pre></pre></td><td></td></tr><tr><td>type</td><td>str</td><td></td><td ><pre></pre></td><td></td></tr><tr><td>cluster</td><td>int64</td><td></td><td ><pre></pre></td><td></td></tr></table><h2>Data:</h2><table>\n",
       "<thead>\n",
       "<tr><th>#                             </th><th>store_nbr  </th><th>city         </th><th>state                         </th><th>type  </th><th>cluster  </th></tr>\n",
       "</thead>\n",
       "<tbody>\n",
       "<tr><td><i style='opacity: 0.6'>0</i> </td><td>1          </td><td>Quito        </td><td>Pichincha                     </td><td>D     </td><td>13       </td></tr>\n",
       "<tr><td><i style='opacity: 0.6'>1</i> </td><td>2          </td><td>Quito        </td><td>Pichincha                     </td><td>D     </td><td>13       </td></tr>\n",
       "<tr><td><i style='opacity: 0.6'>2</i> </td><td>3          </td><td>Quito        </td><td>Pichincha                     </td><td>D     </td><td>8        </td></tr>\n",
       "<tr><td><i style='opacity: 0.6'>3</i> </td><td>4          </td><td>Quito        </td><td>Pichincha                     </td><td>D     </td><td>9        </td></tr>\n",
       "<tr><td><i style='opacity: 0.6'>4</i> </td><td>5          </td><td>Santo Domingo</td><td>Santo Domingo de los Tsachilas</td><td>D     </td><td>4        </td></tr>\n",
       "<tr><td>...                           </td><td>...        </td><td>...          </td><td>...                           </td><td>...   </td><td>...      </td></tr>\n",
       "<tr><td><i style='opacity: 0.6'>49</i></td><td>50         </td><td>Ambato       </td><td>Tungurahua                    </td><td>A     </td><td>14       </td></tr>\n",
       "<tr><td><i style='opacity: 0.6'>50</i></td><td>51         </td><td>Guayaquil    </td><td>Guayas                        </td><td>A     </td><td>17       </td></tr>\n",
       "<tr><td><i style='opacity: 0.6'>51</i></td><td>52         </td><td>Manta        </td><td>Manabi                        </td><td>A     </td><td>11       </td></tr>\n",
       "<tr><td><i style='opacity: 0.6'>52</i></td><td>53         </td><td>Manta        </td><td>Manabi                        </td><td>D     </td><td>13       </td></tr>\n",
       "<tr><td><i style='opacity: 0.6'>53</i></td><td>54         </td><td>El Carmen    </td><td>Manabi                        </td><td>C     </td><td>3        </td></tr>\n",
       "</tbody>\n",
       "</table>"
      ],
      "text/plain": [
       "<IPython.core.display.HTML object>"
      ]
     },
     "metadata": {},
     "output_type": "display_data"
    },
    {
     "name": "stdout",
     "output_type": "stream",
     "text": [
      "DF: oil, shape: (1218, 2), columns: ['date', 'dcoilwtico']\n"
     ]
    },
    {
     "data": {
      "text/html": [
       "<style>.vaex-description pre {\n",
       "          max-width : 450px;\n",
       "          white-space : nowrap;\n",
       "          overflow : hidden;\n",
       "          text-overflow: ellipsis;\n",
       "        }\n",
       "\n",
       "        .vex-description pre:hover {\n",
       "          max-width : initial;\n",
       "          white-space: pre;\n",
       "        }</style>"
      ],
      "text/plain": [
       "<IPython.core.display.HTML object>"
      ]
     },
     "metadata": {},
     "output_type": "display_data"
    },
    {
     "data": {
      "text/html": [
       "<div><h2>no-name</h2> <b>rows</b>: 1,218</div><h2>Columns:</h2><table class='table-striped'><thead><tr><th>column</th><th>type</th><th>unit</th><th>description</th><th>expression</th></tr></thead><tr><td>date</td><td>datetime64[ns]</td><td></td><td ><pre></pre></td><td></td></tr><tr><td>dcoilwtico</td><td>float64</td><td></td><td ><pre></pre></td><td></td></tr></table><h2>Data:</h2><table>\n",
       "<thead>\n",
       "<tr><th>#                                </th><th>date                         </th><th>dcoilwtico  </th></tr>\n",
       "</thead>\n",
       "<tbody>\n",
       "<tr><td><i style='opacity: 0.6'>0</i>    </td><td>2013-01-01 00:00:00.000000000</td><td>nan         </td></tr>\n",
       "<tr><td><i style='opacity: 0.6'>1</i>    </td><td>2013-01-02 00:00:00.000000000</td><td>93.14       </td></tr>\n",
       "<tr><td><i style='opacity: 0.6'>2</i>    </td><td>2013-01-03 00:00:00.000000000</td><td>92.97       </td></tr>\n",
       "<tr><td><i style='opacity: 0.6'>3</i>    </td><td>2013-01-04 00:00:00.000000000</td><td>93.12       </td></tr>\n",
       "<tr><td><i style='opacity: 0.6'>4</i>    </td><td>2013-01-07 00:00:00.000000000</td><td>93.2        </td></tr>\n",
       "<tr><td>...                              </td><td>...                          </td><td>...         </td></tr>\n",
       "<tr><td><i style='opacity: 0.6'>1,213</i></td><td>2017-08-25 00:00:00.000000000</td><td>47.65       </td></tr>\n",
       "<tr><td><i style='opacity: 0.6'>1,214</i></td><td>2017-08-28 00:00:00.000000000</td><td>46.4        </td></tr>\n",
       "<tr><td><i style='opacity: 0.6'>1,215</i></td><td>2017-08-29 00:00:00.000000000</td><td>46.46       </td></tr>\n",
       "<tr><td><i style='opacity: 0.6'>1,216</i></td><td>2017-08-30 00:00:00.000000000</td><td>45.96       </td></tr>\n",
       "<tr><td><i style='opacity: 0.6'>1,217</i></td><td>2017-08-31 00:00:00.000000000</td><td>47.26       </td></tr>\n",
       "</tbody>\n",
       "</table>"
      ],
      "text/plain": [
       "<IPython.core.display.HTML object>"
      ]
     },
     "metadata": {},
     "output_type": "display_data"
    },
    {
     "name": "stdout",
     "output_type": "stream",
     "text": [
      "DF: transactions, shape: (83488, 3), columns: ['date', 'store_nbr', 'transactions']\n"
     ]
    },
    {
     "data": {
      "text/html": [
       "<style>.vaex-description pre {\n",
       "          max-width : 450px;\n",
       "          white-space : nowrap;\n",
       "          overflow : hidden;\n",
       "          text-overflow: ellipsis;\n",
       "        }\n",
       "\n",
       "        .vex-description pre:hover {\n",
       "          max-width : initial;\n",
       "          white-space: pre;\n",
       "        }</style>"
      ],
      "text/plain": [
       "<IPython.core.display.HTML object>"
      ]
     },
     "metadata": {},
     "output_type": "display_data"
    },
    {
     "data": {
      "text/html": [
       "<div><h2>no-name</h2> <b>rows</b>: 83,488</div><h2>Columns:</h2><table class='table-striped'><thead><tr><th>column</th><th>type</th><th>unit</th><th>description</th><th>expression</th></tr></thead><tr><td>date</td><td>datetime64[ns]</td><td></td><td ><pre></pre></td><td></td></tr><tr><td>store_nbr</td><td>int64</td><td></td><td ><pre></pre></td><td></td></tr><tr><td>transactions</td><td>int64</td><td></td><td ><pre></pre></td><td></td></tr></table><h2>Data:</h2><table>\n",
       "<thead>\n",
       "<tr><th>#                                 </th><th>date                         </th><th>store_nbr  </th><th>transactions  </th></tr>\n",
       "</thead>\n",
       "<tbody>\n",
       "<tr><td><i style='opacity: 0.6'>0</i>     </td><td>2013-01-01 00:00:00.000000000</td><td>25         </td><td>770           </td></tr>\n",
       "<tr><td><i style='opacity: 0.6'>1</i>     </td><td>2013-01-02 00:00:00.000000000</td><td>1          </td><td>2111          </td></tr>\n",
       "<tr><td><i style='opacity: 0.6'>2</i>     </td><td>2013-01-02 00:00:00.000000000</td><td>2          </td><td>2358          </td></tr>\n",
       "<tr><td><i style='opacity: 0.6'>3</i>     </td><td>2013-01-02 00:00:00.000000000</td><td>3          </td><td>3487          </td></tr>\n",
       "<tr><td><i style='opacity: 0.6'>4</i>     </td><td>2013-01-02 00:00:00.000000000</td><td>4          </td><td>1922          </td></tr>\n",
       "<tr><td>...                               </td><td>...                          </td><td>...        </td><td>...           </td></tr>\n",
       "<tr><td><i style='opacity: 0.6'>83,483</i></td><td>2017-08-15 00:00:00.000000000</td><td>50         </td><td>2804          </td></tr>\n",
       "<tr><td><i style='opacity: 0.6'>83,484</i></td><td>2017-08-15 00:00:00.000000000</td><td>51         </td><td>1573          </td></tr>\n",
       "<tr><td><i style='opacity: 0.6'>83,485</i></td><td>2017-08-15 00:00:00.000000000</td><td>52         </td><td>2255          </td></tr>\n",
       "<tr><td><i style='opacity: 0.6'>83,486</i></td><td>2017-08-15 00:00:00.000000000</td><td>53         </td><td>932           </td></tr>\n",
       "<tr><td><i style='opacity: 0.6'>83,487</i></td><td>2017-08-15 00:00:00.000000000</td><td>54         </td><td>802           </td></tr>\n",
       "</tbody>\n",
       "</table>"
      ],
      "text/plain": [
       "<IPython.core.display.HTML object>"
      ]
     },
     "metadata": {},
     "output_type": "display_data"
    },
    {
     "name": "stdout",
     "output_type": "stream",
     "text": [
      "DF: train, shape: (3000888, 6), columns: ['id', 'date', 'store_nbr', 'family', 'sales', 'onpromotion']\n"
     ]
    },
    {
     "data": {
      "text/html": [
       "<style>.vaex-description pre {\n",
       "          max-width : 450px;\n",
       "          white-space : nowrap;\n",
       "          overflow : hidden;\n",
       "          text-overflow: ellipsis;\n",
       "        }\n",
       "\n",
       "        .vex-description pre:hover {\n",
       "          max-width : initial;\n",
       "          white-space: pre;\n",
       "        }</style>"
      ],
      "text/plain": [
       "<IPython.core.display.HTML object>"
      ]
     },
     "metadata": {},
     "output_type": "display_data"
    },
    {
     "data": {
      "text/html": [
       "<div><h2>no-name</h2> <b>rows</b>: 3,000,888</div><h2>Columns:</h2><table class='table-striped'><thead><tr><th>column</th><th>type</th><th>unit</th><th>description</th><th>expression</th></tr></thead><tr><td>id</td><td>int64</td><td></td><td ><pre></pre></td><td></td></tr><tr><td>date</td><td>datetime64[ns]</td><td></td><td ><pre></pre></td><td></td></tr><tr><td>store_nbr</td><td>int64</td><td></td><td ><pre></pre></td><td></td></tr><tr><td>family</td><td>str</td><td></td><td ><pre></pre></td><td></td></tr><tr><td>sales</td><td>float64</td><td></td><td ><pre></pre></td><td></td></tr><tr><td>onpromotion</td><td>int64</td><td></td><td ><pre></pre></td><td></td></tr></table><h2>Data:</h2><table>\n",
       "<thead>\n",
       "<tr><th>#                                    </th><th>id     </th><th>date                         </th><th>store_nbr  </th><th>family                    </th><th>sales   </th><th>onpromotion  </th></tr>\n",
       "</thead>\n",
       "<tbody>\n",
       "<tr><td><i style='opacity: 0.6'>0</i>        </td><td>0      </td><td>2013-01-01 00:00:00.000000000</td><td>1          </td><td>AUTOMOTIVE                </td><td>0.0     </td><td>0            </td></tr>\n",
       "<tr><td><i style='opacity: 0.6'>1</i>        </td><td>1      </td><td>2013-01-01 00:00:00.000000000</td><td>1          </td><td>BABY CARE                 </td><td>0.0     </td><td>0            </td></tr>\n",
       "<tr><td><i style='opacity: 0.6'>2</i>        </td><td>2      </td><td>2013-01-01 00:00:00.000000000</td><td>1          </td><td>BEAUTY                    </td><td>0.0     </td><td>0            </td></tr>\n",
       "<tr><td><i style='opacity: 0.6'>3</i>        </td><td>3      </td><td>2013-01-01 00:00:00.000000000</td><td>1          </td><td>BEVERAGES                 </td><td>0.0     </td><td>0            </td></tr>\n",
       "<tr><td><i style='opacity: 0.6'>4</i>        </td><td>4      </td><td>2013-01-01 00:00:00.000000000</td><td>1          </td><td>BOOKS                     </td><td>0.0     </td><td>0            </td></tr>\n",
       "<tr><td>...                                  </td><td>...    </td><td>...                          </td><td>...        </td><td>...                       </td><td>...     </td><td>...          </td></tr>\n",
       "<tr><td><i style='opacity: 0.6'>3,000,883</i></td><td>3000883</td><td>2017-08-15 00:00:00.000000000</td><td>9          </td><td>POULTRY                   </td><td>438.133 </td><td>0            </td></tr>\n",
       "<tr><td><i style='opacity: 0.6'>3,000,884</i></td><td>3000884</td><td>2017-08-15 00:00:00.000000000</td><td>9          </td><td>PREPARED FOODS            </td><td>154.553 </td><td>1            </td></tr>\n",
       "<tr><td><i style='opacity: 0.6'>3,000,885</i></td><td>3000885</td><td>2017-08-15 00:00:00.000000000</td><td>9          </td><td>PRODUCE                   </td><td>2419.729</td><td>148          </td></tr>\n",
       "<tr><td><i style='opacity: 0.6'>3,000,886</i></td><td>3000886</td><td>2017-08-15 00:00:00.000000000</td><td>9          </td><td>SCHOOL AND OFFICE SUPPLIES</td><td>121.0   </td><td>8            </td></tr>\n",
       "<tr><td><i style='opacity: 0.6'>3,000,887</i></td><td>3000887</td><td>2017-08-15 00:00:00.000000000</td><td>9          </td><td>SEAFOOD                   </td><td>16.0    </td><td>0            </td></tr>\n",
       "</tbody>\n",
       "</table>"
      ],
      "text/plain": [
       "<IPython.core.display.HTML object>"
      ]
     },
     "metadata": {},
     "output_type": "display_data"
    },
    {
     "name": "stdout",
     "output_type": "stream",
     "text": [
      "DF: test, shape: (28512, 5), columns: ['id', 'date', 'store_nbr', 'family', 'onpromotion']\n"
     ]
    },
    {
     "data": {
      "text/html": [
       "<style>.vaex-description pre {\n",
       "          max-width : 450px;\n",
       "          white-space : nowrap;\n",
       "          overflow : hidden;\n",
       "          text-overflow: ellipsis;\n",
       "        }\n",
       "\n",
       "        .vex-description pre:hover {\n",
       "          max-width : initial;\n",
       "          white-space: pre;\n",
       "        }</style>"
      ],
      "text/plain": [
       "<IPython.core.display.HTML object>"
      ]
     },
     "metadata": {},
     "output_type": "display_data"
    },
    {
     "data": {
      "text/html": [
       "<div><h2>no-name</h2> <b>rows</b>: 28,512</div><h2>Columns:</h2><table class='table-striped'><thead><tr><th>column</th><th>type</th><th>unit</th><th>description</th><th>expression</th></tr></thead><tr><td>id</td><td>int64</td><td></td><td ><pre></pre></td><td></td></tr><tr><td>date</td><td>datetime64[ns]</td><td></td><td ><pre></pre></td><td></td></tr><tr><td>store_nbr</td><td>int64</td><td></td><td ><pre></pre></td><td></td></tr><tr><td>family</td><td>str</td><td></td><td ><pre></pre></td><td></td></tr><tr><td>onpromotion</td><td>int64</td><td></td><td ><pre></pre></td><td></td></tr></table><h2>Data:</h2><table>\n",
       "<thead>\n",
       "<tr><th>#                                 </th><th>id     </th><th>date                         </th><th>store_nbr  </th><th>family                    </th><th>onpromotion  </th></tr>\n",
       "</thead>\n",
       "<tbody>\n",
       "<tr><td><i style='opacity: 0.6'>0</i>     </td><td>3000888</td><td>2017-08-16 00:00:00.000000000</td><td>1          </td><td>AUTOMOTIVE                </td><td>0            </td></tr>\n",
       "<tr><td><i style='opacity: 0.6'>1</i>     </td><td>3000889</td><td>2017-08-16 00:00:00.000000000</td><td>1          </td><td>BABY CARE                 </td><td>0            </td></tr>\n",
       "<tr><td><i style='opacity: 0.6'>2</i>     </td><td>3000890</td><td>2017-08-16 00:00:00.000000000</td><td>1          </td><td>BEAUTY                    </td><td>2            </td></tr>\n",
       "<tr><td><i style='opacity: 0.6'>3</i>     </td><td>3000891</td><td>2017-08-16 00:00:00.000000000</td><td>1          </td><td>BEVERAGES                 </td><td>20           </td></tr>\n",
       "<tr><td><i style='opacity: 0.6'>4</i>     </td><td>3000892</td><td>2017-08-16 00:00:00.000000000</td><td>1          </td><td>BOOKS                     </td><td>0            </td></tr>\n",
       "<tr><td>...                               </td><td>...    </td><td>...                          </td><td>...        </td><td>...                       </td><td>...          </td></tr>\n",
       "<tr><td><i style='opacity: 0.6'>28,507</i></td><td>3029395</td><td>2017-08-31 00:00:00.000000000</td><td>9          </td><td>POULTRY                   </td><td>1            </td></tr>\n",
       "<tr><td><i style='opacity: 0.6'>28,508</i></td><td>3029396</td><td>2017-08-31 00:00:00.000000000</td><td>9          </td><td>PREPARED FOODS            </td><td>0            </td></tr>\n",
       "<tr><td><i style='opacity: 0.6'>28,509</i></td><td>3029397</td><td>2017-08-31 00:00:00.000000000</td><td>9          </td><td>PRODUCE                   </td><td>1            </td></tr>\n",
       "<tr><td><i style='opacity: 0.6'>28,510</i></td><td>3029398</td><td>2017-08-31 00:00:00.000000000</td><td>9          </td><td>SCHOOL AND OFFICE SUPPLIES</td><td>9            </td></tr>\n",
       "<tr><td><i style='opacity: 0.6'>28,511</i></td><td>3029399</td><td>2017-08-31 00:00:00.000000000</td><td>9          </td><td>SEAFOOD                   </td><td>0            </td></tr>\n",
       "</tbody>\n",
       "</table>"
      ],
      "text/plain": [
       "<IPython.core.display.HTML object>"
      ]
     },
     "metadata": {},
     "output_type": "display_data"
    }
   ],
   "source": [
    "df_list = {'holidays':holidays, 'stores':stores, 'oil':oil, 'transactions':transactions, 'train':train, 'test':test}\n",
    "for k,v in df_list.items():\n",
    "    print(f\"DF: {str(k)}, shape: {v.shape}, columns: {list(v.columns)}\")\n",
    "    v.info()"
   ]
  },
  {
   "cell_type": "code",
   "execution_count": 6,
   "metadata": {},
   "outputs": [],
   "source": [
    "# import dtale\n",
    "# d = dtale.show(train.to_pandas_df())\n",
    "# d.open_browser()"
   ]
  },
  {
   "cell_type": "code",
   "execution_count": 7,
   "metadata": {},
   "outputs": [],
   "source": [
    "\n",
    "# d = dtale.show(transactions.to_pandas_df())\n",
    "# d.open_browser()"
   ]
  },
  {
   "cell_type": "code",
   "execution_count": 8,
   "metadata": {},
   "outputs": [
    {
     "data": {
      "image/png": "[encoded data removed]",
      "text/plain": [
       "<Figure size 640x480 with 1 Axes>"
      ]
     },
     "metadata": {},
     "output_type": "display_data"
    }
   ],
   "source": [
    "train.viz.scatter(train.date, train.sales, length_check=False );"
   ]
  },
  {
   "attachments": {},
   "cell_type": "markdown",
   "metadata": {},
   "source": [
    "DF: holidays, shape: (350, 6), columns: ['date', 'type', 'locale', 'locale_name', 'description', 'transferred']<br>\n",
    "DF: oil, shape: (1218, 2), columns: ['date', 'dcoilwtico']<br>\n",
    "DF: transactions, shape: (83488, 3), columns: ['date', 'store_nbr', 'transactions']\n",
    "\n",
    "DF: train, shape: (3000888, 6), columns: ['id', 'date', 'store_nbr', 'family', 'sales', 'onpromotion']<br>\n",
    "DF: stores, shape: (54, 5), columns: ['store_nbr', 'city', 'state', 'type', 'cluster']<br>\n",
    "DF: test, shape: (28512, 5), columns: ['id', 'date', 'store_nbr', 'family', 'onpromotion']"
   ]
  },
  {
   "cell_type": "code",
   "execution_count": 9,
   "metadata": {},
   "outputs": [
    {
     "data": {
      "text/plain": [
       "(85007, 9)"
      ]
     },
     "execution_count": 9,
     "metadata": {},
     "output_type": "execute_result"
    }
   ],
   "source": [
    "txn_holidays = transactions.join(holidays, on='date', lsuffix='_tx', rsuffix='_h', allow_duplication=True)\n",
    "txn_holidays.shape"
   ]
  },
  {
   "cell_type": "code",
   "execution_count": 10,
   "metadata": {},
   "outputs": [
    {
     "name": "stdout",
     "output_type": "stream",
     "text": [
      "<class 'pandas.core.frame.DataFrame'>\n",
      "DatetimeIndex: 85007 entries, 2013-01-01 to 2016-11-12\n",
      "Data columns (total 8 columns):\n",
      " #   Column        Non-Null Count  Dtype         \n",
      "---  ------        --------------  -----         \n",
      " 0   store_nbr     85007 non-null  int64         \n",
      " 1   transactions  85007 non-null  int64         \n",
      " 2   date_h        13911 non-null  datetime64[ns]\n",
      " 3   type          13911 non-null  object        \n",
      " 4   locale        13911 non-null  object        \n",
      " 5   locale_name   13911 non-null  object        \n",
      " 6   description   13911 non-null  object        \n",
      " 7   transferred   13911 non-null  object        \n",
      "dtypes: datetime64[ns](1), int64(2), object(5)\n",
      "memory usage: 5.8+ MB\n"
     ]
    }
   ],
   "source": [
    "txn_holidays_df = txn_holidays.to_pandas_df()\n",
    "txn_holidays_df.set_index('date_tx', inplace=True)\n",
    "txn_holidays_df.info()"
   ]
  },
  {
   "cell_type": "code",
   "execution_count": 11,
   "metadata": {},
   "outputs": [
    {
     "data": {
      "text/plain": [
       "(3000888, 11)"
      ]
     },
     "execution_count": 11,
     "metadata": {},
     "output_type": "execute_result"
    }
   ],
   "source": [
    "train_stores = train.join(stores, on='store_nbr', lsuffix='_tr', rsuffix='_st',)\n",
    "train_stores.shape"
   ]
  },
  {
   "cell_type": "code",
   "execution_count": 12,
   "metadata": {},
   "outputs": [
    {
     "name": "stdout",
     "output_type": "stream",
     "text": [
      "<class 'pandas.core.frame.DataFrame'>\n",
      "DatetimeIndex: 3000888 entries, 2013-01-01 to 2017-08-15\n",
      "Data columns (total 10 columns):\n",
      " #   Column        Dtype  \n",
      "---  ------        -----  \n",
      " 0   id            int64  \n",
      " 1   store_nbr_tr  int64  \n",
      " 2   family        object \n",
      " 3   sales         float64\n",
      " 4   onpromotion   int64  \n",
      " 5   store_nbr_st  int64  \n",
      " 6   city          object \n",
      " 7   state         object \n",
      " 8   type          object \n",
      " 9   cluster       int64  \n",
      "dtypes: float64(1), int64(5), object(4)\n",
      "memory usage: 251.8+ MB\n"
     ]
    }
   ],
   "source": [
    "train_stores_df = train_stores.to_pandas_df()\n",
    "train_stores_df.set_index('date', inplace=True)\n",
    "train_stores_df.info()"
   ]
  },
  {
   "attachments": {},
   "cell_type": "markdown",
   "metadata": {},
   "source": [
    "### error when joining pandas \n",
    "\n",
    "Cannot execute code, session has been disposed. Please try restarting the Kernel.\n",
    "The Kernel crashed while executing code in the the current cell or a previous cell. Please review the code in the cell(s) to identify a possible cause of the failure. Click here for more info. View Jupyter log for further details."
   ]
  },
  {
   "cell_type": "code",
   "execution_count": 13,
   "metadata": {},
   "outputs": [],
   "source": [
    "train_stores=vx.from_pandas(train_stores_df.reset_index())"
   ]
  },
  {
   "cell_type": "code",
   "execution_count": 14,
   "metadata": {},
   "outputs": [
    {
     "data": {
      "text/html": [
       "<table>\n",
       "<thead>\n",
       "<tr><th>#                                    </th><th>date                         </th><th>id     </th><th>store_nbr_tr  </th><th>family                    </th><th>sales   </th><th>onpromotion  </th><th>store_nbr_st  </th><th>city  </th><th>state    </th><th>type  </th><th>cluster  </th></tr>\n",
       "</thead>\n",
       "<tbody>\n",
       "<tr><td><i style='opacity: 0.6'>0</i>        </td><td>2013-01-01 00:00:00.000000000</td><td>0      </td><td>1             </td><td>AUTOMOTIVE                </td><td>0.0     </td><td>0            </td><td>1             </td><td>Quito </td><td>Pichincha</td><td>D     </td><td>13       </td></tr>\n",
       "<tr><td><i style='opacity: 0.6'>1</i>        </td><td>2013-01-01 00:00:00.000000000</td><td>1      </td><td>1             </td><td>BABY CARE                 </td><td>0.0     </td><td>0            </td><td>1             </td><td>Quito </td><td>Pichincha</td><td>D     </td><td>13       </td></tr>\n",
       "<tr><td><i style='opacity: 0.6'>2</i>        </td><td>2013-01-01 00:00:00.000000000</td><td>2      </td><td>1             </td><td>BEAUTY                    </td><td>0.0     </td><td>0            </td><td>1             </td><td>Quito </td><td>Pichincha</td><td>D     </td><td>13       </td></tr>\n",
       "<tr><td><i style='opacity: 0.6'>3</i>        </td><td>2013-01-01 00:00:00.000000000</td><td>3      </td><td>1             </td><td>BEVERAGES                 </td><td>0.0     </td><td>0            </td><td>1             </td><td>Quito </td><td>Pichincha</td><td>D     </td><td>13       </td></tr>\n",
       "<tr><td><i style='opacity: 0.6'>4</i>        </td><td>2013-01-01 00:00:00.000000000</td><td>4      </td><td>1             </td><td>BOOKS                     </td><td>0.0     </td><td>0            </td><td>1             </td><td>Quito </td><td>Pichincha</td><td>D     </td><td>13       </td></tr>\n",
       "<tr><td>...                                  </td><td>...                          </td><td>...    </td><td>...           </td><td>...                       </td><td>...     </td><td>...          </td><td>...           </td><td>...   </td><td>...      </td><td>...   </td><td>...      </td></tr>\n",
       "<tr><td><i style='opacity: 0.6'>3,000,883</i></td><td>2017-08-15 00:00:00.000000000</td><td>3000883</td><td>9             </td><td>POULTRY                   </td><td>438.133 </td><td>0            </td><td>9             </td><td>Quito </td><td>Pichincha</td><td>B     </td><td>6        </td></tr>\n",
       "<tr><td><i style='opacity: 0.6'>3,000,884</i></td><td>2017-08-15 00:00:00.000000000</td><td>3000884</td><td>9             </td><td>PREPARED FOODS            </td><td>154.553 </td><td>1            </td><td>9             </td><td>Quito </td><td>Pichincha</td><td>B     </td><td>6        </td></tr>\n",
       "<tr><td><i style='opacity: 0.6'>3,000,885</i></td><td>2017-08-15 00:00:00.000000000</td><td>3000885</td><td>9             </td><td>PRODUCE                   </td><td>2419.729</td><td>148          </td><td>9             </td><td>Quito </td><td>Pichincha</td><td>B     </td><td>6        </td></tr>\n",
       "<tr><td><i style='opacity: 0.6'>3,000,886</i></td><td>2017-08-15 00:00:00.000000000</td><td>3000886</td><td>9             </td><td>SCHOOL AND OFFICE SUPPLIES</td><td>121.0   </td><td>8            </td><td>9             </td><td>Quito </td><td>Pichincha</td><td>B     </td><td>6        </td></tr>\n",
       "<tr><td><i style='opacity: 0.6'>3,000,887</i></td><td>2017-08-15 00:00:00.000000000</td><td>3000887</td><td>9             </td><td>SEAFOOD                   </td><td>16.0    </td><td>0            </td><td>9             </td><td>Quito </td><td>Pichincha</td><td>B     </td><td>6        </td></tr>\n",
       "</tbody>\n",
       "</table>"
      ],
      "text/plain": [
       "#          date                           id       store_nbr_tr    family                      sales     onpromotion    store_nbr_st    city    state      type    cluster\n",
       "0          2013-01-01 00:00:00.000000000  0        1               AUTOMOTIVE                  0.0       0              1               Quito   Pichincha  D       13\n",
       "1          2013-01-01 00:00:00.000000000  1        1               BABY CARE                   0.0       0              1               Quito   Pichincha  D       13\n",
       "2          2013-01-01 00:00:00.000000000  2        1               BEAUTY                      0.0       0              1               Quito   Pichincha  D       13\n",
       "3          2013-01-01 00:00:00.000000000  3        1               BEVERAGES                   0.0       0              1               Quito   Pichincha  D       13\n",
       "4          2013-01-01 00:00:00.000000000  4        1               BOOKS                       0.0       0              1               Quito   Pichincha  D       13\n",
       "...        ...                            ...      ...             ...                         ...       ...            ...             ...     ...        ...     ...\n",
       "3,000,883  2017-08-15 00:00:00.000000000  3000883  9               POULTRY                     438.133   0              9               Quito   Pichincha  B       6\n",
       "3,000,884  2017-08-15 00:00:00.000000000  3000884  9               PREPARED FOODS              154.553   1              9               Quito   Pichincha  B       6\n",
       "3,000,885  2017-08-15 00:00:00.000000000  3000885  9               PRODUCE                     2419.729  148            9               Quito   Pichincha  B       6\n",
       "3,000,886  2017-08-15 00:00:00.000000000  3000886  9               SCHOOL AND OFFICE SUPPLIES  121.0     8              9               Quito   Pichincha  B       6\n",
       "3,000,887  2017-08-15 00:00:00.000000000  3000887  9               SEAFOOD                     16.0      0              9               Quito   Pichincha  B       6"
      ]
     },
     "execution_count": 14,
     "metadata": {},
     "output_type": "execute_result"
    }
   ],
   "source": [
    "train_stores"
   ]
  },
  {
   "cell_type": "code",
   "execution_count": 15,
   "metadata": {},
   "outputs": [
    {
     "data": {
      "text/html": [
       "<table>\n",
       "<thead>\n",
       "<tr><th>#                                 </th><th>date_tx                      </th><th>store_nbr  </th><th>transactions  </th><th>date_h                       </th><th>type    </th><th>locale  </th><th>locale_name  </th><th>description                    </th><th>transferred  </th></tr>\n",
       "</thead>\n",
       "<tbody>\n",
       "<tr><td><i style='opacity: 0.6'>0</i>     </td><td>2013-01-01 00:00:00.000000000</td><td>25         </td><td>770           </td><td>2013-01-01 00:00:00.000000000</td><td>Holiday </td><td>National</td><td>Ecuador      </td><td>Primer dia del ano             </td><td>False        </td></tr>\n",
       "<tr><td><i style='opacity: 0.6'>1</i>     </td><td>2013-01-02 00:00:00.000000000</td><td>1          </td><td>2111          </td><td>NaT                          </td><td>--      </td><td>--      </td><td>--           </td><td>--                             </td><td>nan          </td></tr>\n",
       "<tr><td><i style='opacity: 0.6'>2</i>     </td><td>2013-01-02 00:00:00.000000000</td><td>2          </td><td>2358          </td><td>NaT                          </td><td>--      </td><td>--      </td><td>--           </td><td>--                             </td><td>nan          </td></tr>\n",
       "<tr><td><i style='opacity: 0.6'>3</i>     </td><td>2013-01-02 00:00:00.000000000</td><td>3          </td><td>3487          </td><td>NaT                          </td><td>--      </td><td>--      </td><td>--           </td><td>--                             </td><td>nan          </td></tr>\n",
       "<tr><td><i style='opacity: 0.6'>4</i>     </td><td>2013-01-02 00:00:00.000000000</td><td>4          </td><td>1922          </td><td>NaT                          </td><td>--      </td><td>--      </td><td>--           </td><td>--                             </td><td>nan          </td></tr>\n",
       "<tr><td>...                               </td><td>...                          </td><td>...        </td><td>...           </td><td>...                          </td><td>...     </td><td>...     </td><td>...          </td><td>...                            </td><td>...          </td></tr>\n",
       "<tr><td><i style='opacity: 0.6'>85,002</i></td><td>2016-11-12 00:00:00.000000000</td><td>49         </td><td>3242          </td><td>2016-11-12 00:00:00.000000000</td><td>Work Day</td><td>National</td><td>Ecuador      </td><td>Recupero Puente Dia de Difuntos</td><td>False        </td></tr>\n",
       "<tr><td><i style='opacity: 0.6'>85,003</i></td><td>2016-11-12 00:00:00.000000000</td><td>50         </td><td>3057          </td><td>2016-11-12 00:00:00.000000000</td><td>Work Day</td><td>National</td><td>Ecuador      </td><td>Recupero Puente Dia de Difuntos</td><td>False        </td></tr>\n",
       "<tr><td><i style='opacity: 0.6'>85,004</i></td><td>2016-11-12 00:00:00.000000000</td><td>51         </td><td>1696          </td><td>2016-11-12 00:00:00.000000000</td><td>Work Day</td><td>National</td><td>Ecuador      </td><td>Recupero Puente Dia de Difuntos</td><td>False        </td></tr>\n",
       "<tr><td><i style='opacity: 0.6'>85,005</i></td><td>2016-11-12 00:00:00.000000000</td><td>53         </td><td>1274          </td><td>2016-11-12 00:00:00.000000000</td><td>Work Day</td><td>National</td><td>Ecuador      </td><td>Recupero Puente Dia de Difuntos</td><td>False        </td></tr>\n",
       "<tr><td><i style='opacity: 0.6'>85,006</i></td><td>2016-11-12 00:00:00.000000000</td><td>54         </td><td>826           </td><td>2016-11-12 00:00:00.000000000</td><td>Work Day</td><td>National</td><td>Ecuador      </td><td>Recupero Puente Dia de Difuntos</td><td>False        </td></tr>\n",
       "</tbody>\n",
       "</table>"
      ],
      "text/plain": [
       "#       date_tx                        store_nbr    transactions    date_h                         type      locale    locale_name    description                      transferred\n",
       "0       2013-01-01 00:00:00.000000000  25           770             2013-01-01 00:00:00.000000000  Holiday   National  Ecuador        Primer dia del ano               False\n",
       "1       2013-01-02 00:00:00.000000000  1            2111            NaT                            --        --        --             --                               nan\n",
       "2       2013-01-02 00:00:00.000000000  2            2358            NaT                            --        --        --             --                               nan\n",
       "3       2013-01-02 00:00:00.000000000  3            3487            NaT                            --        --        --             --                               nan\n",
       "4       2013-01-02 00:00:00.000000000  4            1922            NaT                            --        --        --             --                               nan\n",
       "...     ...                            ...          ...             ...                            ...       ...       ...            ...                              ...\n",
       "85,002  2016-11-12 00:00:00.000000000  49           3242            2016-11-12 00:00:00.000000000  Work Day  National  Ecuador        Recupero Puente Dia de Difuntos  False\n",
       "85,003  2016-11-12 00:00:00.000000000  50           3057            2016-11-12 00:00:00.000000000  Work Day  National  Ecuador        Recupero Puente Dia de Difuntos  False\n",
       "85,004  2016-11-12 00:00:00.000000000  51           1696            2016-11-12 00:00:00.000000000  Work Day  National  Ecuador        Recupero Puente Dia de Difuntos  False\n",
       "85,005  2016-11-12 00:00:00.000000000  53           1274            2016-11-12 00:00:00.000000000  Work Day  National  Ecuador        Recupero Puente Dia de Difuntos  False\n",
       "85,006  2016-11-12 00:00:00.000000000  54           826             2016-11-12 00:00:00.000000000  Work Day  National  Ecuador        Recupero Puente Dia de Difuntos  False"
      ]
     },
     "execution_count": 15,
     "metadata": {},
     "output_type": "execute_result"
    }
   ],
   "source": [
    "txn_holidays=vx.from_pandas(txn_holidays_df.reset_index())\n",
    "txn_holidays"
   ]
  },
  {
   "cell_type": "code",
   "execution_count": 16,
   "metadata": {},
   "outputs": [
    {
     "ename": "",
     "evalue": "",
     "output_type": "error",
     "traceback": [
      "\u001b[1;31mCannot execute code, session has been disposed. Please try restarting the Kernel."
     ]
    },
    {
     "ename": "",
     "evalue": "",
     "output_type": "error",
     "traceback": [
      "\u001b[1;31mThe Kernel crashed while executing code in the the current cell or a previous cell. Please review the code in the cell(s) to identify a possible cause of the failure. Click <a href='https://aka.ms/vscodeJupyterKernelCrash'>here</a> for more info. View Jupyter <a href='command:jupyter.viewOutput'>log</a> for further details."
     ]
    }
   ],
   "source": [
    "# convert to vaex dataframe as kernel would crash with pandas dataframe\n",
    "df_full = train_stores.join(txn_holidays, \n",
    "                    left_on='date', right_on='date_tx',\n",
    "                    how='left', \n",
    "                    allow_duplication=True,\n",
    "                    lsuffix='_tr_st', \n",
    "                    rsuffix='_txn_hols'\n",
    "                    )"
   ]
  }
 ],
 "metadata": {
  "kernelspec": {
   "display_name": "forecasting",
   "language": "python",
   "name": "python3"
  },
  "language_info": {
   "codemirror_mode": {
    "name": "ipython",
    "version": 3
   },
   "file_extension": ".py",
   "mimetype": "text/x-python",
   "name": "python",
   "nbconvert_exporter": "python",
   "pygments_lexer": "ipython3",
   "version": "3.9.13"
  },
  "orig_nbformat": 4
 },
 "nbformat": 4,
 "nbformat_minor": 2
}
