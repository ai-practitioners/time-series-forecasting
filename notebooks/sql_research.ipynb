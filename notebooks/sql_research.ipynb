{
 "cells": [
  {
   "attachments": {},
   "cell_type": "markdown",
   "metadata": {},
   "source": [
    "# Libraries for this research notebook"
   ]
  },
  {
   "cell_type": "code",
   "execution_count": 1,
   "metadata": {},
   "outputs": [],
   "source": [
    "import pandas as pd\n",
    "from dotenv import load_dotenv\n",
    "import os\n",
    "\n",
    "# to overcome path issue for src\n",
    "%reload_ext autoreload\n",
    "%autoreload 2\n",
    "\n",
    "from pathlib import Path\n",
    "import sys\n",
    "\n",
    "# set the path to the current file\n",
    "current_file_path = Path().resolve()\n",
    "\n",
    "# set the path to the src folder\n",
    "src_folder_path = current_file_path.parent\n",
    "\n",
    "# add the src folder to the system path\n",
    "sys.path.append(str(src_folder_path))\n",
    "\n",
    "import src.data_loader as DB"
   ]
  },
  {
   "attachments": {},
   "cell_type": "markdown",
   "metadata": {},
   "source": [
    "# Query data from MySQL"
   ]
  },
  {
   "cell_type": "code",
   "execution_count": 2,
   "metadata": {},
   "outputs": [],
   "source": [
    "from abc import ABC, abstractmethod\n",
    "from dotenv import dotenv_values\n",
    "import pandas as pd\n",
    "from sqlalchemy import create_engine\n",
    "\n",
    "\n",
    "class MyDataLoader(ABC):\n",
    "    '''\n",
    "      Provide DataLoader interface for documentation purposes.\n",
    "      Used for CSVDataLoader and DBDataLoader.\n",
    "    '''\n",
    "    @abstractmethod\n",
    "    def load(self):\n",
    "        pass\n",
    "\n",
    "class DBDataLoader(MyDataLoader):\n",
    "    '''\n",
    "    '''\n",
    "\n",
    "    config = dotenv_values()  \n",
    "\n",
    "    def __init__(self):\n",
    "        self.database = self._get_database_engine()\n",
    "        self.query = 'SELECT * FROM oil'\n",
    "\n",
    "    def load(self, query=None):\n",
    "        # If custom SQL query not provided, use default query\n",
    "        if query is None:\n",
    "            query = self.query\n",
    "        print('Loading dataset from database...')\n",
    "        return pd.read_sql(query, self.database)\n",
    "\n",
    "    def _get_database_engine(self):\n",
    "        host = self.config.get('DB_HOST')\n",
    "        user = self.config.get('DB_USER')\n",
    "        password = self.config.get('DB_PWD')\n",
    "        db = self.config.get('DB_NAME')\n",
    "\n",
    "        return create_engine(f'mysql+pymysql://{user}:{password}@{host}/{db}')"
   ]
  },
  {
   "cell_type": "code",
   "execution_count": 3,
   "metadata": {},
   "outputs": [
    {
     "name": "stdout",
     "output_type": "stream",
     "text": [
      "Loading dataset from database...\n"
     ]
    },
    {
     "data": {
      "text/html": [
       "<div>\n",
       "<style scoped>\n",
       "    .dataframe tbody tr th:only-of-type {\n",
       "        vertical-align: middle;\n",
       "    }\n",
       "\n",
       "    .dataframe tbody tr th {\n",
       "        vertical-align: top;\n",
       "    }\n",
       "\n",
       "    .dataframe thead th {\n",
       "        text-align: right;\n",
       "    }\n",
       "</style>\n",
       "<table border=\"1\" class=\"dataframe\">\n",
       "  <thead>\n",
       "    <tr style=\"text-align: right;\">\n",
       "      <th></th>\n",
       "      <th>date</th>\n",
       "      <th>dcoilwtico</th>\n",
       "    </tr>\n",
       "  </thead>\n",
       "  <tbody>\n",
       "    <tr>\n",
       "      <th>0</th>\n",
       "      <td>2013-01-01</td>\n",
       "      <td>NaN</td>\n",
       "    </tr>\n",
       "    <tr>\n",
       "      <th>1</th>\n",
       "      <td>2013-01-02</td>\n",
       "      <td>93.14</td>\n",
       "    </tr>\n",
       "    <tr>\n",
       "      <th>2</th>\n",
       "      <td>2013-01-03</td>\n",
       "      <td>92.97</td>\n",
       "    </tr>\n",
       "    <tr>\n",
       "      <th>3</th>\n",
       "      <td>2013-01-04</td>\n",
       "      <td>93.12</td>\n",
       "    </tr>\n",
       "    <tr>\n",
       "      <th>4</th>\n",
       "      <td>2013-01-07</td>\n",
       "      <td>93.20</td>\n",
       "    </tr>\n",
       "  </tbody>\n",
       "</table>\n",
       "</div>"
      ],
      "text/plain": [
       "         date  dcoilwtico\n",
       "0  2013-01-01         NaN\n",
       "1  2013-01-02       93.14\n",
       "2  2013-01-03       92.97\n",
       "3  2013-01-04       93.12\n",
       "4  2013-01-07       93.20"
      ]
     },
     "execution_count": 3,
     "metadata": {},
     "output_type": "execute_result"
    }
   ],
   "source": [
    "# load in data set using string query\n",
    "query = '''\n",
    "    SELECT *\n",
    "    FROM time_series.oil\n",
    "'''\n",
    "\n",
    "# instantiate the DataLoader object\n",
    "results = DBDataLoader().load(query=query)\n",
    "\n",
    "# create a connection\n",
    "# conn = load_data.initiate_local_connection()\n",
    "\n",
    "results.head()"
   ]
  },
  {
   "cell_type": "code",
   "execution_count": 4,
   "metadata": {},
   "outputs": [
    {
     "data": {
      "text/plain": [
       "(1218, 2)"
      ]
     },
     "execution_count": 4,
     "metadata": {},
     "output_type": "execute_result"
    }
   ],
   "source": [
    "results.shape"
   ]
  },
  {
   "cell_type": "code",
   "execution_count": 6,
   "metadata": {},
   "outputs": [
    {
     "name": "stdout",
     "output_type": "stream",
     "text": [
      "Loading dataset from database...\n"
     ]
    },
    {
     "data": {
      "text/html": [
       "<div>\n",
       "<style scoped>\n",
       "    .dataframe tbody tr th:only-of-type {\n",
       "        vertical-align: middle;\n",
       "    }\n",
       "\n",
       "    .dataframe tbody tr th {\n",
       "        vertical-align: top;\n",
       "    }\n",
       "\n",
       "    .dataframe thead th {\n",
       "        text-align: right;\n",
       "    }\n",
       "</style>\n",
       "<table border=\"1\" class=\"dataframe\">\n",
       "  <thead>\n",
       "    <tr style=\"text-align: right;\">\n",
       "      <th></th>\n",
       "      <th>id</th>\n",
       "      <th>date</th>\n",
       "      <th>store_nbr</th>\n",
       "      <th>family</th>\n",
       "      <th>sales</th>\n",
       "      <th>onpromotion</th>\n",
       "      <th>city</th>\n",
       "      <th>state</th>\n",
       "      <th>type</th>\n",
       "      <th>cluster</th>\n",
       "      <th>transactions</th>\n",
       "      <th>locale</th>\n",
       "    </tr>\n",
       "  </thead>\n",
       "  <tbody>\n",
       "    <tr>\n",
       "      <th>0</th>\n",
       "      <td>108471</td>\n",
       "      <td>2013-03-02</td>\n",
       "      <td>52</td>\n",
       "      <td>AUTOMOTIVE</td>\n",
       "      <td>0.0</td>\n",
       "      <td>0</td>\n",
       "      <td>Manta</td>\n",
       "      <td>Manabi</td>\n",
       "      <td>A</td>\n",
       "      <td>11</td>\n",
       "      <td>None</td>\n",
       "      <td>Local</td>\n",
       "    </tr>\n",
       "    <tr>\n",
       "      <th>1</th>\n",
       "      <td>108472</td>\n",
       "      <td>2013-03-02</td>\n",
       "      <td>52</td>\n",
       "      <td>BABY CARE</td>\n",
       "      <td>0.0</td>\n",
       "      <td>0</td>\n",
       "      <td>Manta</td>\n",
       "      <td>Manabi</td>\n",
       "      <td>A</td>\n",
       "      <td>11</td>\n",
       "      <td>None</td>\n",
       "      <td>Local</td>\n",
       "    </tr>\n",
       "    <tr>\n",
       "      <th>2</th>\n",
       "      <td>108473</td>\n",
       "      <td>2013-03-02</td>\n",
       "      <td>52</td>\n",
       "      <td>BEAUTY</td>\n",
       "      <td>0.0</td>\n",
       "      <td>0</td>\n",
       "      <td>Manta</td>\n",
       "      <td>Manabi</td>\n",
       "      <td>A</td>\n",
       "      <td>11</td>\n",
       "      <td>None</td>\n",
       "      <td>Local</td>\n",
       "    </tr>\n",
       "    <tr>\n",
       "      <th>3</th>\n",
       "      <td>108474</td>\n",
       "      <td>2013-03-02</td>\n",
       "      <td>52</td>\n",
       "      <td>BEVERAGES</td>\n",
       "      <td>0.0</td>\n",
       "      <td>0</td>\n",
       "      <td>Manta</td>\n",
       "      <td>Manabi</td>\n",
       "      <td>A</td>\n",
       "      <td>11</td>\n",
       "      <td>None</td>\n",
       "      <td>Local</td>\n",
       "    </tr>\n",
       "    <tr>\n",
       "      <th>4</th>\n",
       "      <td>108475</td>\n",
       "      <td>2013-03-02</td>\n",
       "      <td>52</td>\n",
       "      <td>BOOKS</td>\n",
       "      <td>0.0</td>\n",
       "      <td>0</td>\n",
       "      <td>Manta</td>\n",
       "      <td>Manabi</td>\n",
       "      <td>A</td>\n",
       "      <td>11</td>\n",
       "      <td>None</td>\n",
       "      <td>Local</td>\n",
       "    </tr>\n",
       "  </tbody>\n",
       "</table>\n",
       "</div>"
      ],
      "text/plain": [
       "       id        date  store_nbr      family  sales  onpromotion   city  \\\n",
       "0  108471  2013-03-02         52  AUTOMOTIVE    0.0            0  Manta   \n",
       "1  108472  2013-03-02         52   BABY CARE    0.0            0  Manta   \n",
       "2  108473  2013-03-02         52      BEAUTY    0.0            0  Manta   \n",
       "3  108474  2013-03-02         52   BEVERAGES    0.0            0  Manta   \n",
       "4  108475  2013-03-02         52       BOOKS    0.0            0  Manta   \n",
       "\n",
       "    state type  cluster transactions locale  \n",
       "0  Manabi    A       11         None  Local  \n",
       "1  Manabi    A       11         None  Local  \n",
       "2  Manabi    A       11         None  Local  \n",
       "3  Manabi    A       11         None  Local  \n",
       "4  Manabi    A       11         None  Local  "
      ]
     },
     "execution_count": 6,
     "metadata": {},
     "output_type": "execute_result"
    }
   ],
   "source": [
    "# load in data set using .sql file\n",
    "query_file_path = '../src/scripts/query_joined_table.sql'\n",
    "\n",
    "with open(query_file_path) as f_sql:\n",
    "    sql_raw = f_sql.read()\n",
    "    results2 = DBDataLoader().load(query=sql_raw)\n",
    "# results = load_data.query_from_file(conn, query_file_path)\n",
    "\n",
    "results2.head()"
   ]
  },
  {
   "cell_type": "code",
   "execution_count": 7,
   "metadata": {},
   "outputs": [
    {
     "data": {
      "text/plain": [
       "(66, 12)"
      ]
     },
     "execution_count": 7,
     "metadata": {},
     "output_type": "execute_result"
    }
   ],
   "source": [
    "results2.shape"
   ]
  },
  {
   "attachments": {},
   "cell_type": "markdown",
   "metadata": {},
   "source": [
    "Notes: need to establish\n",
    "- Database tables : column names, data types, required status\n",
    "- DOTENV data\n",
    "- "
   ]
  }
 ],
 "metadata": {
  "kernelspec": {
   "display_name": "venv",
   "language": "python",
   "name": "python3"
  },
  "language_info": {
   "codemirror_mode": {
    "name": "ipython",
    "version": 3
   },
   "file_extension": ".py",
   "mimetype": "text/x-python",
   "name": "python",
   "nbconvert_exporter": "python",
   "pygments_lexer": "ipython3",
   "version": "3.9.13"
  },
  "orig_nbformat": 4
 },
 "nbformat": 4,
 "nbformat_minor": 2
}
