{
  "nbformat": 4,
  "nbformat_minor": 0,
  "metadata": {
    "colab": {
      "provenance": []
    },
    "kernelspec": {
      "name": "python3",
      "display_name": "Python 3"
    },
    "language_info": {
      "name": "python"
    }
  },
  "cells": [
    {
      "cell_type": "code",
      "metadata": {
        "colab": {
          "base_uri": "https://localhost:8080/"
        },
        "id": "45zbfFFsZESU",
        "outputId": "20b2f165-5820-4e53-fc17-c27691d4aa86"
      },
      "source": [
        "!git clone https://github.com/salesforce/Merlion.git"
      ],
      "execution_count": null,
      "outputs": [
        {
          "output_type": "stream",
          "name": "stdout",
          "text": [
            "Cloning into 'Merlion'...\n",
            "remote: Enumerating objects: 726, done.\u001b[K\n",
            "remote: Counting objects: 100% (586/586), done.\u001b[K\n",
            "remote: Compressing objects: 100% (357/357), done.\u001b[K\n",
            "remote: Total 726 (delta 325), reused 401 (delta 229), pack-reused 140\u001b[K\n",
            "Receiving objects: 100% (726/726), 77.92 MiB | 38.16 MiB/s, done.\n",
            "Resolving deltas: 100% (334/334), done.\n"
          ]
        }
      ]
    },
    {
      "cell_type": "code",
      "metadata": {
        "colab": {
          "base_uri": "https://localhost:8080/",
          "height": 1000
        },
        "id": "WngrxXzsVQGU",
        "outputId": "13c865c0-e163-4f69-debb-743bffc4defb"
      },
      "source": [
        "pip install ."
      ],
      "execution_count": null,
      "outputs": [
        {
          "output_type": "stream",
          "name": "stdout",
          "text": [
            "Processing /content/Merlion\n",
            "\u001b[33m  DEPRECATION: A future pip version will change local packages to be built in-place without first copying to a temporary directory. We recommend you use --use-feature=in-tree-build to test your packages with this new behavior before it becomes the default.\n",
            "   pip 21.3 will remove support for this functionality. You can find discussion regarding this at https://github.com/pypa/pip/issues/7555.\u001b[0m\n",
            "Requirement already satisfied: cython in /usr/local/lib/python3.7/dist-packages (from salesforce-merlion==1.0.0) (0.29.24)\n",
            "Requirement already satisfied: dill in /usr/local/lib/python3.7/dist-packages (from salesforce-merlion==1.0.0) (0.3.4)\n",
            "Requirement already satisfied: fbprophet in /usr/local/lib/python3.7/dist-packages (from salesforce-merlion==1.0.0) (0.7.1)\n",
            "Requirement already satisfied: GitPython in /usr/local/lib/python3.7/dist-packages (from salesforce-merlion==1.0.0) (3.1.24)\n",
            "Requirement already satisfied: JPype1==1.0.2 in /usr/local/lib/python3.7/dist-packages (from salesforce-merlion==1.0.0) (1.0.2)\n",
            "Requirement already satisfied: matplotlib in /usr/local/lib/python3.7/dist-packages (from salesforce-merlion==1.0.0) (3.2.2)\n",
            "Requirement already satisfied: numpy!=1.18.* in /usr/local/lib/python3.7/dist-packages (from salesforce-merlion==1.0.0) (1.19.5)\n",
            "Requirement already satisfied: pandas>=1.1.0 in /usr/local/lib/python3.7/dist-packages (from salesforce-merlion==1.0.0) (1.1.5)\n",
            "Requirement already satisfied: pystan<3.0\" in /usr/local/lib/python3.7/dist-packages (from salesforce-merlion==1.0.0) (2.19.1.1)\n",
            "Requirement already satisfied: scikit-learn>=0.22 in /usr/local/lib/python3.7/dist-packages (from salesforce-merlion==1.0.0) (0.22.2.post1)\n",
            "Requirement already satisfied: scipy>=1.5.0 in /usr/local/lib/python3.7/dist-packages (from salesforce-merlion==1.0.0) (1.7.1)\n",
            "Requirement already satisfied: statsmodels>=0.12.2 in /usr/local/lib/python3.7/dist-packages (from salesforce-merlion==1.0.0) (0.12.2)\n",
            "Requirement already satisfied: torch>=1.1.0 in /usr/local/lib/python3.7/dist-packages (from salesforce-merlion==1.0.0) (1.9.0+cu102)\n",
            "Requirement already satisfied: lightgbm in /usr/local/lib/python3.7/dist-packages (from salesforce-merlion==1.0.0) (2.2.3)\n",
            "Requirement already satisfied: tqdm in /usr/local/lib/python3.7/dist-packages (from salesforce-merlion==1.0.0) (4.62.2)\n",
            "Requirement already satisfied: wheel in /usr/local/lib/python3.7/dist-packages (from salesforce-merlion==1.0.0) (0.37.0)\n",
            "Requirement already satisfied: pytest in /usr/local/lib/python3.7/dist-packages (from salesforce-merlion==1.0.0) (3.6.4)\n",
            "Requirement already satisfied: typing-extensions in /usr/local/lib/python3.7/dist-packages (from JPype1==1.0.2->salesforce-merlion==1.0.0) (3.7.4.3)\n",
            "Requirement already satisfied: pytz>=2017.2 in /usr/local/lib/python3.7/dist-packages (from pandas>=1.1.0->salesforce-merlion==1.0.0) (2018.9)\n",
            "Requirement already satisfied: python-dateutil>=2.7.3 in /usr/local/lib/python3.7/dist-packages (from pandas>=1.1.0->salesforce-merlion==1.0.0) (2.8.2)\n",
            "Requirement already satisfied: six>=1.5 in /usr/local/lib/python3.7/dist-packages (from python-dateutil>=2.7.3->pandas>=1.1.0->salesforce-merlion==1.0.0) (1.15.0)\n",
            "Requirement already satisfied: joblib>=0.11 in /usr/local/lib/python3.7/dist-packages (from scikit-learn>=0.22->salesforce-merlion==1.0.0) (1.0.1)\n",
            "Requirement already satisfied: patsy>=0.5 in /usr/local/lib/python3.7/dist-packages (from statsmodels>=0.12.2->salesforce-merlion==1.0.0) (0.5.1)\n",
            "Requirement already satisfied: cmdstanpy==0.9.5 in /usr/local/lib/python3.7/dist-packages (from fbprophet->salesforce-merlion==1.0.0) (0.9.5)\n",
            "Requirement already satisfied: LunarCalendar>=0.0.9 in /usr/local/lib/python3.7/dist-packages (from fbprophet->salesforce-merlion==1.0.0) (0.0.9)\n",
            "Requirement already satisfied: convertdate>=2.1.2 in /usr/local/lib/python3.7/dist-packages (from fbprophet->salesforce-merlion==1.0.0) (2.3.2)\n",
            "Requirement already satisfied: holidays>=0.10.2 in /usr/local/lib/python3.7/dist-packages (from fbprophet->salesforce-merlion==1.0.0) (0.10.5.2)\n",
            "Requirement already satisfied: setuptools-git>=1.2 in /usr/local/lib/python3.7/dist-packages (from fbprophet->salesforce-merlion==1.0.0) (1.2)\n",
            "Requirement already satisfied: pymeeus<=1,>=0.3.13 in /usr/local/lib/python3.7/dist-packages (from convertdate>=2.1.2->fbprophet->salesforce-merlion==1.0.0) (0.5.11)\n",
            "Requirement already satisfied: korean-lunar-calendar in /usr/local/lib/python3.7/dist-packages (from holidays>=0.10.2->fbprophet->salesforce-merlion==1.0.0) (0.2.1)\n",
            "Requirement already satisfied: hijri-converter in /usr/local/lib/python3.7/dist-packages (from holidays>=0.10.2->fbprophet->salesforce-merlion==1.0.0) (2.2.1)\n",
            "Requirement already satisfied: ephem>=3.7.5.3 in /usr/local/lib/python3.7/dist-packages (from LunarCalendar>=0.0.9->fbprophet->salesforce-merlion==1.0.0) (4.0.0.2)\n",
            "Requirement already satisfied: pyparsing!=2.0.4,!=2.1.2,!=2.1.6,>=2.0.1 in /usr/local/lib/python3.7/dist-packages (from matplotlib->salesforce-merlion==1.0.0) (2.4.7)\n",
            "Requirement already satisfied: kiwisolver>=1.0.1 in /usr/local/lib/python3.7/dist-packages (from matplotlib->salesforce-merlion==1.0.0) (1.3.2)\n",
            "Requirement already satisfied: cycler>=0.10 in /usr/local/lib/python3.7/dist-packages (from matplotlib->salesforce-merlion==1.0.0) (0.10.0)\n",
            "Requirement already satisfied: gitdb<5,>=4.0.1 in /usr/local/lib/python3.7/dist-packages (from GitPython->salesforce-merlion==1.0.0) (4.0.7)\n",
            "Requirement already satisfied: smmap<5,>=3.0.1 in /usr/local/lib/python3.7/dist-packages (from gitdb<5,>=4.0.1->GitPython->salesforce-merlion==1.0.0) (4.0.0)\n",
            "Requirement already satisfied: py>=1.5.0 in /usr/local/lib/python3.7/dist-packages (from pytest->salesforce-merlion==1.0.0) (1.10.0)\n",
            "Requirement already satisfied: attrs>=17.4.0 in /usr/local/lib/python3.7/dist-packages (from pytest->salesforce-merlion==1.0.0) (21.2.0)\n",
            "Requirement already satisfied: more-itertools>=4.0.0 in /usr/local/lib/python3.7/dist-packages (from pytest->salesforce-merlion==1.0.0) (8.9.0)\n",
            "Requirement already satisfied: atomicwrites>=1.0 in /usr/local/lib/python3.7/dist-packages (from pytest->salesforce-merlion==1.0.0) (1.4.0)\n",
            "Requirement already satisfied: pluggy<0.8,>=0.5 in /usr/local/lib/python3.7/dist-packages (from pytest->salesforce-merlion==1.0.0) (0.7.1)\n",
            "Requirement already satisfied: setuptools in /usr/local/lib/python3.7/dist-packages (from pytest->salesforce-merlion==1.0.0) (57.4.0)\n",
            "Building wheels for collected packages: salesforce-merlion\n",
            "  Building wheel for salesforce-merlion (setup.py) ... \u001b[?25l\u001b[?25hdone\n",
            "  Created wheel for salesforce-merlion: filename=salesforce_merlion-1.0.0-py3-none-any.whl size=615156 sha256=c0ccfc91c5aa678f8ee8198977d82814297a1b920050083a348239f77dc607f2\n",
            "  Stored in directory: /tmp/pip-ephem-wheel-cache-yhfe4w7s/wheels/44/c3/ce/cc5e7a0c851b4c50b0e1cead0de429bcfb4742b8da7032052a\n",
            "Successfully built salesforce-merlion\n",
            "Installing collected packages: salesforce-merlion\n",
            "  Attempting uninstall: salesforce-merlion\n",
            "    Found existing installation: salesforce-merlion 1.0.0\n",
            "    Uninstalling salesforce-merlion-1.0.0:\n",
            "      Successfully uninstalled salesforce-merlion-1.0.0\n",
            "Successfully installed salesforce-merlion-1.0.0\n"
          ]
        },
        {
          "output_type": "display_data",
          "data": {
            "application/vnd.colab-display-data+json": {
              "pip_warning": {
                "packages": [
                  "merlion",
                  "ts_datasets"
                ]
              }
            }
          },
          "metadata": {}
        }
      ]
    },
    {
      "cell_type": "code",
      "metadata": {
        "colab": {
          "base_uri": "https://localhost:8080/"
        },
        "id": "Yz4_UAb_Vq96",
        "outputId": "244b7654-b78b-4a86-a1d6-77081b82baad"
      },
      "source": [
        "%cd /content/Merlion"
      ],
      "execution_count": null,
      "outputs": [
        {
          "output_type": "stream",
          "name": "stdout",
          "text": [
            "/content/Merlion\n"
          ]
        }
      ]
    },
    {
      "cell_type": "code",
      "metadata": {
        "colab": {
          "base_uri": "https://localhost:8080/"
        },
        "id": "HjPk2QYPVhnR",
        "outputId": "f0e1e82d-f673-4f29-8b54-e2afcc200bc4"
      },
      "source": [
        "pip install -e ts_datasets/"
      ],
      "execution_count": null,
      "outputs": [
        {
          "output_type": "stream",
          "name": "stdout",
          "text": [
            "Obtaining file:///content/Merlion/ts_datasets\n",
            "Requirement already satisfied: cython in /usr/local/lib/python3.7/dist-packages (from ts-datasets==0.1.0) (0.29.24)\n",
            "Requirement already satisfied: numpy in /usr/local/lib/python3.7/dist-packages (from ts-datasets==0.1.0) (1.19.5)\n",
            "Requirement already satisfied: pandas in /usr/local/lib/python3.7/dist-packages (from ts-datasets==0.1.0) (1.1.5)\n",
            "Requirement already satisfied: requests in /usr/local/lib/python3.7/dist-packages (from ts-datasets==0.1.0) (2.23.0)\n",
            "Requirement already satisfied: sklearn in /usr/local/lib/python3.7/dist-packages (from ts-datasets==0.1.0) (0.0)\n",
            "Requirement already satisfied: tqdm in /usr/local/lib/python3.7/dist-packages (from ts-datasets==0.1.0) (4.62.2)\n",
            "Requirement already satisfied: wheel in /usr/local/lib/python3.7/dist-packages (from ts-datasets==0.1.0) (0.37.0)\n",
            "Requirement already satisfied: python-dateutil>=2.7.3 in /usr/local/lib/python3.7/dist-packages (from pandas->ts-datasets==0.1.0) (2.8.2)\n",
            "Requirement already satisfied: pytz>=2017.2 in /usr/local/lib/python3.7/dist-packages (from pandas->ts-datasets==0.1.0) (2018.9)\n",
            "Requirement already satisfied: six>=1.5 in /usr/local/lib/python3.7/dist-packages (from python-dateutil>=2.7.3->pandas->ts-datasets==0.1.0) (1.15.0)\n",
            "Requirement already satisfied: idna<3,>=2.5 in /usr/local/lib/python3.7/dist-packages (from requests->ts-datasets==0.1.0) (2.10)\n",
            "Requirement already satisfied: chardet<4,>=3.0.2 in /usr/local/lib/python3.7/dist-packages (from requests->ts-datasets==0.1.0) (3.0.4)\n",
            "Requirement already satisfied: certifi>=2017.4.17 in /usr/local/lib/python3.7/dist-packages (from requests->ts-datasets==0.1.0) (2021.5.30)\n",
            "Requirement already satisfied: urllib3!=1.25.0,!=1.25.1,<1.26,>=1.21.1 in /usr/local/lib/python3.7/dist-packages (from requests->ts-datasets==0.1.0) (1.24.3)\n",
            "Requirement already satisfied: scikit-learn in /usr/local/lib/python3.7/dist-packages (from sklearn->ts-datasets==0.1.0) (0.22.2.post1)\n",
            "Requirement already satisfied: joblib>=0.11 in /usr/local/lib/python3.7/dist-packages (from scikit-learn->sklearn->ts-datasets==0.1.0) (1.0.1)\n",
            "Requirement already satisfied: scipy>=0.17.0 in /usr/local/lib/python3.7/dist-packages (from scikit-learn->sklearn->ts-datasets==0.1.0) (1.7.1)\n",
            "Installing collected packages: ts-datasets\n",
            "  Running setup.py develop for ts-datasets\n",
            "Successfully installed ts-datasets-0.1.0\n"
          ]
        }
      ]
    },
    {
      "cell_type": "code",
      "metadata": {
        "id": "llPXnyetVmlM"
      },
      "source": [
        "import pandas as pd"
      ],
      "execution_count": null,
      "outputs": []
    },
    {
      "cell_type": "markdown",
      "metadata": {
        "id": "6-D-k4GKOPDk"
      },
      "source": [
        "### Anomaly detection"
      ]
    },
    {
      "cell_type": "code",
      "metadata": {
        "id": "brxNmGmoVzWP"
      },
      "source": [
        "from merlion.utils import TimeSeries\n",
        "from ts_datasets.anomaly import NAB\n",
        "\n",
        "time_series, metadata = NAB(subset='realTweets')[5]\n",
        "train_data = TimeSeries.from_pd(time_series[metadata.trainval])\n",
        "test_data = TimeSeries.from_pd(time_series[~metadata.trainval])\n",
        "test_labels = TimeSeries.from_pd(metadata.anomaly[~metadata.trainval])"
      ],
      "execution_count": null,
      "outputs": []
    },
    {
      "cell_type": "code",
      "metadata": {
        "colab": {
          "base_uri": "https://localhost:8080/",
          "height": 268
        },
        "id": "fA8TyEOi6JS2",
        "outputId": "d00f4009-7eca-4dcf-f997-5f423abaf23a"
      },
      "source": [
        "time_series.head(6)"
      ],
      "execution_count": null,
      "outputs": [
        {
          "output_type": "execute_result",
          "data": {
            "text/html": [
              "<div>\n",
              "<style scoped>\n",
              "    .dataframe tbody tr th:only-of-type {\n",
              "        vertical-align: middle;\n",
              "    }\n",
              "\n",
              "    .dataframe tbody tr th {\n",
              "        vertical-align: top;\n",
              "    }\n",
              "\n",
              "    .dataframe thead th {\n",
              "        text-align: right;\n",
              "    }\n",
              "</style>\n",
              "<table border=\"1\" class=\"dataframe\">\n",
              "  <thead>\n",
              "    <tr style=\"text-align: right;\">\n",
              "      <th></th>\n",
              "      <th>value</th>\n",
              "    </tr>\n",
              "    <tr>\n",
              "      <th>timestamp</th>\n",
              "      <th></th>\n",
              "    </tr>\n",
              "  </thead>\n",
              "  <tbody>\n",
              "    <tr>\n",
              "      <th>2015-02-26 21:42:53</th>\n",
              "      <td>35</td>\n",
              "    </tr>\n",
              "    <tr>\n",
              "      <th>2015-02-26 21:47:53</th>\n",
              "      <td>41</td>\n",
              "    </tr>\n",
              "    <tr>\n",
              "      <th>2015-02-26 21:52:53</th>\n",
              "      <td>32</td>\n",
              "    </tr>\n",
              "    <tr>\n",
              "      <th>2015-02-26 21:57:53</th>\n",
              "      <td>36</td>\n",
              "    </tr>\n",
              "    <tr>\n",
              "      <th>2015-02-26 22:02:53</th>\n",
              "      <td>32</td>\n",
              "    </tr>\n",
              "    <tr>\n",
              "      <th>2015-02-26 22:07:53</th>\n",
              "      <td>25</td>\n",
              "    </tr>\n",
              "  </tbody>\n",
              "</table>\n",
              "</div>"
            ],
            "text/plain": [
              "                     value\n",
              "timestamp                 \n",
              "2015-02-26 21:42:53     35\n",
              "2015-02-26 21:47:53     41\n",
              "2015-02-26 21:52:53     32\n",
              "2015-02-26 21:57:53     36\n",
              "2015-02-26 22:02:53     32\n",
              "2015-02-26 22:07:53     25"
            ]
          },
          "metadata": {},
          "execution_count": 251
        }
      ]
    },
    {
      "cell_type": "code",
      "metadata": {
        "colab": {
          "base_uri": "https://localhost:8080/"
        },
        "id": "3iG19ksvWSR8",
        "outputId": "2cb6e30b-0c86-4bdf-b917-5093f677dddd"
      },
      "source": [
        "train_data"
      ],
      "execution_count": null,
      "outputs": [
        {
          "output_type": "execute_result",
          "data": {
            "text/plain": [
              "                     value\n",
              "2015-02-26 21:42:53   35.0\n",
              "2015-02-26 21:47:53   41.0\n",
              "2015-02-26 21:52:53   32.0\n",
              "2015-02-26 21:57:53   36.0\n",
              "2015-02-26 22:02:53   32.0\n",
              "...                    ...\n",
              "2015-03-07 03:22:53   10.0\n",
              "2015-03-07 03:27:53    9.0\n",
              "2015-03-07 03:32:53    5.0\n",
              "2015-03-07 03:37:53    4.0\n",
              "2015-03-07 03:42:53    9.0\n",
              "\n",
              "[2377 rows x 1 columns]"
            ]
          },
          "metadata": {},
          "execution_count": 127
        }
      ]
    },
    {
      "cell_type": "code",
      "metadata": {
        "colab": {
          "base_uri": "https://localhost:8080/"
        },
        "id": "b4LTlv-pfflX",
        "outputId": "3141ae90-559d-4415-e491-1dfc0359e706"
      },
      "source": [
        "test_data"
      ],
      "execution_count": null,
      "outputs": [
        {
          "output_type": "execute_result",
          "data": {
            "text/plain": [
              "                     value\n",
              "2015-03-07 03:47:53   12.0\n",
              "2015-03-07 03:52:53   13.0\n",
              "2015-03-07 03:57:53   13.0\n",
              "2015-03-07 04:02:53    6.0\n",
              "2015-03-07 04:07:53   25.0\n",
              "...                    ...\n",
              "2015-04-22 21:27:53   58.0\n",
              "2015-04-22 21:32:53   50.0\n",
              "2015-04-22 21:37:53   32.0\n",
              "2015-04-22 21:42:53   72.0\n",
              "2015-04-22 21:47:53   72.0\n",
              "\n",
              "[13465 rows x 1 columns]"
            ]
          },
          "metadata": {},
          "execution_count": 128
        }
      ]
    },
    {
      "cell_type": "code",
      "metadata": {
        "colab": {
          "base_uri": "https://localhost:8080/"
        },
        "id": "v2b8g1Smew5k",
        "outputId": "90cd0f14-1144-441a-e5c7-c1f3be0cfe60"
      },
      "source": [
        "test_labels"
      ],
      "execution_count": null,
      "outputs": [
        {
          "output_type": "execute_result",
          "data": {
            "text/plain": [
              "                     anomaly\n",
              "2015-03-07 03:47:53      0.0\n",
              "2015-03-07 03:52:53      0.0\n",
              "2015-03-07 03:57:53      0.0\n",
              "2015-03-07 04:02:53      0.0\n",
              "2015-03-07 04:07:53      0.0\n",
              "...                      ...\n",
              "2015-04-22 21:27:53      0.0\n",
              "2015-04-22 21:32:53      0.0\n",
              "2015-04-22 21:37:53      0.0\n",
              "2015-04-22 21:42:53      0.0\n",
              "2015-04-22 21:47:53      0.0\n",
              "\n",
              "[13465 rows x 1 columns]"
            ]
          },
          "metadata": {},
          "execution_count": 129
        }
      ]
    },
    {
      "cell_type": "code",
      "metadata": {
        "id": "tgsyDO1Wff_f"
      },
      "source": [
        "from merlion.models.defaults import DefaultDetectorConfig, DefaultDetector\n",
        "# initialize,train, and test the detector\n",
        "model = DefaultDetector(DefaultDetectorConfig())\n",
        "model.train(train_data=train_data)\n",
        "test_pred = model.get_anomaly_label(time_series=test_data)"
      ],
      "execution_count": null,
      "outputs": []
    },
    {
      "cell_type": "code",
      "metadata": {
        "colab": {
          "base_uri": "https://localhost:8080/",
          "height": 441
        },
        "id": "wTYpm3JIf2wp",
        "outputId": "ed7e8946-1ba4-442a-b36f-d9e0eb65a462"
      },
      "source": [
        "from merlion.plot import plot_anoms\n",
        "import matplotlib.pyplot as plt\n",
        "fig, ax = model.plot_anomaly(time_series=test_data)\n",
        "plot_anoms(ax=ax, anomaly_labels=test_labels)\n",
        "plt.show()"
      ],
      "execution_count": null,
      "outputs": [
        {
          "output_type": "display_data",
          "data": {
            "image/png": "[encoded data removed]",
            "text/plain": [
              "<Figure size 720x432 with 2 Axes>"
            ]
          },
          "metadata": {}
        }
      ]
    },
    {
      "cell_type": "code",
      "metadata": {
        "colab": {
          "base_uri": "https://localhost:8080/"
        },
        "id": "hpD38uNJf72w",
        "outputId": "5beff17b-491b-4c3f-da6a-e4b51ef20ad6"
      },
      "source": [
        "from merlion.evaluate.anomaly import TSADMetric\n",
        "#Precision Score\n",
        "p = TSADMetric.Precision.value(ground_truth=test_labels, predict=test_pred)\n",
        "# Recall Score\n",
        "r = TSADMetric.Recall.value(ground_truth=test_labels, predict=test_pred)\n",
        "# F1 Score\n",
        "f1 = TSADMetric.F1.value(ground_truth=test_labels, predict=test_pred)\n",
        "# returns mean time taken to detect anomaly\n",
        "mttd = TSADMetric.MeanTimeToDetect.value(ground_truth=test_labels, predict=test_pred)\n",
        "print(f\"Precision: {p:.4f}, Recall: {r:.4f}, F1: {f1:.4f}\\n\"\n",
        "      f\"Mean Time To Detect: {mttd}\")"
      ],
      "execution_count": null,
      "outputs": [
        {
          "output_type": "stream",
          "name": "stdout",
          "text": [
            "Precision: 1.0000, Recall: 0.6667, F1: 0.8000\n",
            "Mean Time To Detect: 0 days 23:22:30\n"
          ]
        }
      ]
    },
    {
      "cell_type": "code",
      "metadata": {
        "id": "izdlK_hxgPkr"
      },
      "source": [],
      "execution_count": null,
      "outputs": []
    },
    {
      "cell_type": "code",
      "metadata": {
        "id": "a2LQfzpygPia"
      },
      "source": [],
      "execution_count": null,
      "outputs": []
    },
    {
      "cell_type": "markdown",
      "metadata": {
        "id": "85u8QDmvOLXB"
      },
      "source": [
        "### Forecasting"
      ]
    },
    {
      "cell_type": "code",
      "metadata": {
        "id": "CTT_8XEWgPgI"
      },
      "source": [
        "import pandas as pd\n"
      ],
      "execution_count": null,
      "outputs": []
    },
    {
      "cell_type": "code",
      "metadata": {
        "colab": {
          "base_uri": "https://localhost:8080/"
        },
        "id": "TdEgHNyHgOMZ",
        "outputId": "3662f927-a069-4ed5-88a2-a5af39444491"
      },
      "source": [
        "from ts_datasets.forecast import M4\n",
        "\n",
        "time_series, metadata = M4(subset=\"Daily\")[0]\n",
        "train_data = TimeSeries.from_pd(time_series[metadata.trainval])\n",
        "test_data = TimeSeries.from_pd(time_series[~metadata.trainval])"
      ],
      "execution_count": null,
      "outputs": [
        {
          "output_type": "stream",
          "name": "stderr",
          "text": [
            "100%|██████████| 4227/4227 [00:15<00:00, 269.37it/s]\n"
          ]
        }
      ]
    },
    {
      "cell_type": "code",
      "metadata": {
        "colab": {
          "base_uri": "https://localhost:8080/",
          "height": 422
        },
        "id": "JwCl3LBWgOGq",
        "outputId": "49814856-b0df-4909-d413-20b44dce0a00"
      },
      "source": [
        "time_series"
      ],
      "execution_count": null,
      "outputs": [
        {
          "output_type": "execute_result",
          "data": {
            "text/html": [
              "<div>\n",
              "<style scoped>\n",
              "    .dataframe tbody tr th:only-of-type {\n",
              "        vertical-align: middle;\n",
              "    }\n",
              "\n",
              "    .dataframe tbody tr th {\n",
              "        vertical-align: top;\n",
              "    }\n",
              "\n",
              "    .dataframe thead th {\n",
              "        text-align: right;\n",
              "    }\n",
              "</style>\n",
              "<table border=\"1\" class=\"dataframe\">\n",
              "  <thead>\n",
              "    <tr style=\"text-align: right;\">\n",
              "      <th></th>\n",
              "      <th>D1</th>\n",
              "    </tr>\n",
              "  </thead>\n",
              "  <tbody>\n",
              "    <tr>\n",
              "      <th>1970-01-01</th>\n",
              "      <td>1017.1</td>\n",
              "    </tr>\n",
              "    <tr>\n",
              "      <th>1970-01-02</th>\n",
              "      <td>1019.3</td>\n",
              "    </tr>\n",
              "    <tr>\n",
              "      <th>1970-01-03</th>\n",
              "      <td>1017.0</td>\n",
              "    </tr>\n",
              "    <tr>\n",
              "      <th>1970-01-04</th>\n",
              "      <td>1019.2</td>\n",
              "    </tr>\n",
              "    <tr>\n",
              "      <th>1970-01-05</th>\n",
              "      <td>1018.7</td>\n",
              "    </tr>\n",
              "    <tr>\n",
              "      <th>...</th>\n",
              "      <td>...</td>\n",
              "    </tr>\n",
              "    <tr>\n",
              "      <th>1972-10-12</th>\n",
              "      <td>2066.4</td>\n",
              "    </tr>\n",
              "    <tr>\n",
              "      <th>1972-10-13</th>\n",
              "      <td>2067.4</td>\n",
              "    </tr>\n",
              "    <tr>\n",
              "      <th>1972-10-14</th>\n",
              "      <td>2071.4</td>\n",
              "    </tr>\n",
              "    <tr>\n",
              "      <th>1972-10-15</th>\n",
              "      <td>2083.8</td>\n",
              "    </tr>\n",
              "    <tr>\n",
              "      <th>1972-10-16</th>\n",
              "      <td>2080.6</td>\n",
              "    </tr>\n",
              "  </tbody>\n",
              "</table>\n",
              "<p>1020 rows × 1 columns</p>\n",
              "</div>"
            ],
            "text/plain": [
              "                D1\n",
              "1970-01-01  1017.1\n",
              "1970-01-02  1019.3\n",
              "1970-01-03  1017.0\n",
              "1970-01-04  1019.2\n",
              "1970-01-05  1018.7\n",
              "...            ...\n",
              "1972-10-12  2066.4\n",
              "1972-10-13  2067.4\n",
              "1972-10-14  2071.4\n",
              "1972-10-15  2083.8\n",
              "1972-10-16  2080.6\n",
              "\n",
              "[1020 rows x 1 columns]"
            ]
          },
          "metadata": {},
          "execution_count": 240
        }
      ]
    },
    {
      "cell_type": "code",
      "metadata": {
        "colab": {
          "base_uri": "https://localhost:8080/",
          "height": 422
        },
        "id": "bjFptEIqltvj",
        "outputId": "8d5b272a-eab0-41f2-92d4-a53dd9b7ff57"
      },
      "source": [
        "metadata"
      ],
      "execution_count": null,
      "outputs": [
        {
          "output_type": "execute_result",
          "data": {
            "text/html": [
              "<div>\n",
              "<style scoped>\n",
              "    .dataframe tbody tr th:only-of-type {\n",
              "        vertical-align: middle;\n",
              "    }\n",
              "\n",
              "    .dataframe tbody tr th {\n",
              "        vertical-align: top;\n",
              "    }\n",
              "\n",
              "    .dataframe thead th {\n",
              "        text-align: right;\n",
              "    }\n",
              "</style>\n",
              "<table border=\"1\" class=\"dataframe\">\n",
              "  <thead>\n",
              "    <tr style=\"text-align: right;\">\n",
              "      <th></th>\n",
              "      <th>trainval</th>\n",
              "    </tr>\n",
              "  </thead>\n",
              "  <tbody>\n",
              "    <tr>\n",
              "      <th>1970-01-01</th>\n",
              "      <td>True</td>\n",
              "    </tr>\n",
              "    <tr>\n",
              "      <th>1970-01-02</th>\n",
              "      <td>True</td>\n",
              "    </tr>\n",
              "    <tr>\n",
              "      <th>1970-01-03</th>\n",
              "      <td>True</td>\n",
              "    </tr>\n",
              "    <tr>\n",
              "      <th>1970-01-04</th>\n",
              "      <td>True</td>\n",
              "    </tr>\n",
              "    <tr>\n",
              "      <th>1970-01-05</th>\n",
              "      <td>True</td>\n",
              "    </tr>\n",
              "    <tr>\n",
              "      <th>...</th>\n",
              "      <td>...</td>\n",
              "    </tr>\n",
              "    <tr>\n",
              "      <th>1972-10-12</th>\n",
              "      <td>False</td>\n",
              "    </tr>\n",
              "    <tr>\n",
              "      <th>1972-10-13</th>\n",
              "      <td>False</td>\n",
              "    </tr>\n",
              "    <tr>\n",
              "      <th>1972-10-14</th>\n",
              "      <td>False</td>\n",
              "    </tr>\n",
              "    <tr>\n",
              "      <th>1972-10-15</th>\n",
              "      <td>False</td>\n",
              "    </tr>\n",
              "    <tr>\n",
              "      <th>1972-10-16</th>\n",
              "      <td>False</td>\n",
              "    </tr>\n",
              "  </tbody>\n",
              "</table>\n",
              "<p>1020 rows × 1 columns</p>\n",
              "</div>"
            ],
            "text/plain": [
              "            trainval\n",
              "1970-01-01      True\n",
              "1970-01-02      True\n",
              "1970-01-03      True\n",
              "1970-01-04      True\n",
              "1970-01-05      True\n",
              "...              ...\n",
              "1972-10-12     False\n",
              "1972-10-13     False\n",
              "1972-10-14     False\n",
              "1972-10-15     False\n",
              "1972-10-16     False\n",
              "\n",
              "[1020 rows x 1 columns]"
            ]
          },
          "metadata": {},
          "execution_count": 241
        }
      ]
    },
    {
      "cell_type": "code",
      "metadata": {
        "colab": {
          "base_uri": "https://localhost:8080/"
        },
        "id": "VjNgI8XW_ayN",
        "outputId": "8320a069-723c-4b2b-c072-c4dc3559742f"
      },
      "source": [
        "train_data"
      ],
      "execution_count": null,
      "outputs": [
        {
          "output_type": "execute_result",
          "data": {
            "text/plain": [
              "                D1\n",
              "1970-01-01  1017.1\n",
              "1970-01-02  1019.3\n",
              "1970-01-03  1017.0\n",
              "1970-01-04  1019.2\n",
              "1970-01-05  1018.7\n",
              "...            ...\n",
              "1972-09-28  2015.6\n",
              "1972-09-29  2009.7\n",
              "1972-09-30  2022.1\n",
              "1972-10-01  2031.6\n",
              "1972-10-02  2029.7\n",
              "\n",
              "[1006 rows x 1 columns]"
            ]
          },
          "metadata": {},
          "execution_count": 242
        }
      ]
    },
    {
      "cell_type": "code",
      "metadata": {
        "colab": {
          "base_uri": "https://localhost:8080/"
        },
        "id": "se9kzAot_au3",
        "outputId": "081cc026-eeac-4d1c-9d2a-240c737f9d56"
      },
      "source": [
        "test_data"
      ],
      "execution_count": null,
      "outputs": [
        {
          "output_type": "execute_result",
          "data": {
            "text/plain": [
              "                D1\n",
              "1972-10-03  2039.2\n",
              "1972-10-04  2035.0\n",
              "1972-10-05  2051.8\n",
              "1972-10-06  2061.8\n",
              "1972-10-07  2063.5\n",
              "1972-10-08  2069.5\n",
              "1972-10-09  2054.0\n",
              "1972-10-10  2057.0\n",
              "1972-10-11  2062.8\n",
              "1972-10-12  2066.4\n",
              "1972-10-13  2067.4\n",
              "1972-10-14  2071.4\n",
              "1972-10-15  2083.8\n",
              "1972-10-16  2080.6"
            ]
          },
          "metadata": {},
          "execution_count": 243
        }
      ]
    },
    {
      "cell_type": "code",
      "metadata": {
        "id": "Oxn8A2WNgOEQ"
      },
      "source": [
        "from merlion.models.defaults import DefaultForecasterConfig, DefaultForecaster\n",
        "model = DefaultForecaster(DefaultForecasterConfig())\n",
        "model.train(train_data=train_data)\n",
        "test_pred, test_err = model.forecast(time_stamps=test_data.time_stamps)"
      ],
      "execution_count": null,
      "outputs": []
    },
    {
      "cell_type": "code",
      "metadata": {
        "colab": {
          "base_uri": "https://localhost:8080/",
          "height": 441
        },
        "id": "-tQTk24WgOAY",
        "outputId": "ce5f34bd-84ce-4600-fc31-084ff7687e27"
      },
      "source": [
        "import matplotlib.pyplot as plt\n",
        "fig, ax = model.plot_forecast(time_series=test_data, plot_forecast_uncertainty=True)\n",
        "plt.show()"
      ],
      "execution_count": null,
      "outputs": [
        {
          "output_type": "display_data",
          "data": {
            "image/png": "[encoded data removed]",
            "text/plain": [
              "<Figure size 720x432 with 1 Axes>"
            ]
          },
          "metadata": {}
        }
      ]
    },
    {
      "cell_type": "code",
      "metadata": {
        "colab": {
          "base_uri": "https://localhost:8080/"
        },
        "id": "HmH4sX1QgAhG",
        "outputId": "1d829cc7-9711-414c-beb3-5ba0f8a8d80d"
      },
      "source": [
        "from scipy.stats import norm\n",
        "from merlion.evaluate.forecast import ForecastMetric\n",
        "\n",
        "# Compute the sMAPE of the predictions (0 to 100, smaller is better)\n",
        "smape = ForecastMetric.sMAPE.value(ground_truth=test_data, predict=test_pred)\n",
        "\n",
        "# Compute the MSIS of the model's 95% confidence interval (0 to 100, smaller is better)\n",
        "lb = TimeSeries.from_pd(test_pred.to_pd() + norm.ppf(0.025) * test_err.to_pd().values)\n",
        "ub = TimeSeries.from_pd(test_pred.to_pd() + norm.ppf(0.975) * test_err.to_pd().values)\n",
        "msis = ForecastMetric.MSIS.value(ground_truth=test_data, predict=test_pred,\n",
        "                                 insample=train_data, lb=lb, ub=ub)\n",
        "print(f\"sMAPE: {smape:.4f}, MSIS: {msis:.4f}\")"
      ],
      "execution_count": null,
      "outputs": [
        {
          "output_type": "stream",
          "name": "stdout",
          "text": [
            "sMAPE: 1.3596, MSIS: 17.9410\n"
          ]
        }
      ]
    },
    {
      "cell_type": "code",
      "metadata": {
        "id": "BVX7dA7OhrTM"
      },
      "source": [],
      "execution_count": null,
      "outputs": []
    }
  ]
}