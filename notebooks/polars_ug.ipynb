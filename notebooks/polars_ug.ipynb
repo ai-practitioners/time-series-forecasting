{
 "cells": [
  {
   "cell_type": "markdown",
   "metadata": {},
   "source": [
    "# Polars Window functions\n",
    "\n",
    "source: https://pola-rs.github.io/polars-book/user-guide/expressions/window/"
   ]
  },
  {
   "cell_type": "code",
   "execution_count": 4,
   "metadata": {},
   "outputs": [
    {
     "name": "stdout",
     "output_type": "stream",
     "text": [
      "shape: (5, 13)\n",
      "┌─────┬───────────────────────┬────────┬────────┬───┬─────────┬───────┬────────────┬───────────┐\n",
      "│ #   ┆ Name                  ┆ Type 1 ┆ Type 2 ┆ … ┆ Sp. Def ┆ Speed ┆ Generation ┆ Legendary │\n",
      "│ --- ┆ ---                   ┆ ---    ┆ ---    ┆   ┆ ---     ┆ ---   ┆ ---        ┆ ---       │\n",
      "│ i64 ┆ str                   ┆ str    ┆ str    ┆   ┆ i64     ┆ i64   ┆ i64        ┆ bool      │\n",
      "╞═════╪═══════════════════════╪════════╪════════╪═══╪═════════╪═══════╪════════════╪═══════════╡\n",
      "│ 1   ┆ Bulbasaur             ┆ Grass  ┆ Poison ┆ … ┆ 65      ┆ 45    ┆ 1          ┆ false     │\n",
      "│ 2   ┆ Ivysaur               ┆ Grass  ┆ Poison ┆ … ┆ 80      ┆ 60    ┆ 1          ┆ false     │\n",
      "│ 3   ┆ Venusaur              ┆ Grass  ┆ Poison ┆ … ┆ 100     ┆ 80    ┆ 1          ┆ false     │\n",
      "│ 3   ┆ VenusaurMega Venusaur ┆ Grass  ┆ Poison ┆ … ┆ 120     ┆ 80    ┆ 1          ┆ false     │\n",
      "│ 4   ┆ Charmander            ┆ Fire   ┆ null   ┆ … ┆ 50      ┆ 65    ┆ 1          ┆ false     │\n",
      "└─────┴───────────────────────┴────────┴────────┴───┴─────────┴───────┴────────────┴───────────┘\n"
     ]
    }
   ],
   "source": [
    "import polars as pl\n",
    "\n",
    "# then let's load some csv data with information about pokemon\n",
    "df = pl.read_csv(\n",
    "    \"https://gist.githubusercontent.com/ritchie46/cac6b337ea52281aa23c049250a4ff03/raw/89a957ff3919d90e6ef2d34235e6bf22304f3366/pokemon.csv\"\n",
    ")\n",
    "print(df.head())"
   ]
  },
  {
   "cell_type": "code",
   "execution_count": 5,
   "metadata": {},
   "outputs": [
    {
     "name": "stdout",
     "output_type": "stream",
     "text": [
      "['#', 'Name', 'Type 1', 'Type 2', 'Total', 'HP', 'Attack', 'Defense', 'Sp. Atk', 'Sp. Def', 'Speed', 'Generation', 'Legendary']\n"
     ]
    }
   ],
   "source": [
    "print(df.columns)"
   ]
  },
  {
   "cell_type": "code",
   "execution_count": 6,
   "metadata": {},
   "outputs": [
    {
     "name": "stdout",
     "output_type": "stream",
     "text": [
      "shape: (163, 5)\n",
      "┌─────────┬────────┬────────────────────┬─────────────────────────────────┬────────────┐\n",
      "│ Type 1  ┆ Type 2 ┆ avg_attack_by_type ┆ avg_defense_by_type_combination ┆ avg_attack │\n",
      "│ ---     ┆ ---    ┆ ---                ┆ ---                             ┆ ---        │\n",
      "│ str     ┆ str    ┆ f64                ┆ f64                             ┆ f64        │\n",
      "╞═════════╪════════╪════════════════════╪═════════════════════════════════╪════════════╡\n",
      "│ Grass   ┆ Poison ┆ 72.923077          ┆ 67.8                            ┆ 75.349693  │\n",
      "│ Grass   ┆ Poison ┆ 72.923077          ┆ 67.8                            ┆ 75.349693  │\n",
      "│ Grass   ┆ Poison ┆ 72.923077          ┆ 67.8                            ┆ 75.349693  │\n",
      "│ Grass   ┆ Poison ┆ 72.923077          ┆ 67.8                            ┆ 75.349693  │\n",
      "│ …       ┆ …      ┆ …                  ┆ …                               ┆ …          │\n",
      "│ Dragon  ┆ null   ┆ 94.0               ┆ 55.0                            ┆ 75.349693  │\n",
      "│ Dragon  ┆ null   ┆ 94.0               ┆ 55.0                            ┆ 75.349693  │\n",
      "│ Dragon  ┆ Flying ┆ 94.0               ┆ 95.0                            ┆ 75.349693  │\n",
      "│ Psychic ┆ null   ┆ 53.875             ┆ 51.428571                       ┆ 75.349693  │\n",
      "└─────────┴────────┴────────────────────┴─────────────────────────────────┴────────────┘\n"
     ]
    }
   ],
   "source": [
    "out = df.select(\n",
    "    \"Type 1\",\n",
    "    \"Type 2\",\n",
    "    pl.col(\"Attack\").mean().over(\"Type 1\").alias(\"avg_attack_by_type\"),\n",
    "    pl.col(\"Defense\")\n",
    "    .mean()\n",
    "    .over([\"Type 1\", \"Type 2\"])\n",
    "    .alias(\"avg_defense_by_type_combination\"),\n",
    "    pl.col(\"Attack\").mean().alias(\"avg_attack\"),\n",
    ")\n",
    "print(out)"
   ]
  },
  {
   "cell_type": "code",
   "execution_count": 7,
   "metadata": {},
   "outputs": [
    {
     "name": "stdout",
     "output_type": "stream",
     "text": [
      "shape: (7, 3)\n",
      "┌─────────────────────┬────────┬───────┐\n",
      "│ Name                ┆ Type 1 ┆ Speed │\n",
      "│ ---                 ┆ ---    ┆ ---   │\n",
      "│ str                 ┆ str    ┆ i64   │\n",
      "╞═════════════════════╪════════╪═══════╡\n",
      "│ Slowpoke            ┆ Water  ┆ 15    │\n",
      "│ Slowbro             ┆ Water  ┆ 30    │\n",
      "│ SlowbroMega Slowbro ┆ Water  ┆ 30    │\n",
      "│ Exeggcute           ┆ Grass  ┆ 40    │\n",
      "│ Exeggutor           ┆ Grass  ┆ 55    │\n",
      "│ Starmie             ┆ Water  ┆ 115   │\n",
      "│ Jynx                ┆ Ice    ┆ 95    │\n",
      "└─────────────────────┴────────┴───────┘\n"
     ]
    }
   ],
   "source": [
    "filtered = df.filter(pl.col(\"Type 2\") == \"Psychic\").select(\n",
    "    \"Name\",\n",
    "    \"Type 1\",\n",
    "    \"Speed\",\n",
    ")\n",
    "print(filtered)"
   ]
  },
  {
   "cell_type": "code",
   "execution_count": 8,
   "metadata": {},
   "outputs": [
    {
     "name": "stdout",
     "output_type": "stream",
     "text": [
      "shape: (7, 3)\n",
      "┌─────────────────────┬────────┬───────┐\n",
      "│ Name                ┆ Type 1 ┆ Speed │\n",
      "│ ---                 ┆ ---    ┆ ---   │\n",
      "│ str                 ┆ str    ┆ i64   │\n",
      "╞═════════════════════╪════════╪═══════╡\n",
      "│ Starmie             ┆ Water  ┆ 115   │\n",
      "│ Slowbro             ┆ Water  ┆ 30    │\n",
      "│ SlowbroMega Slowbro ┆ Water  ┆ 30    │\n",
      "│ Exeggutor           ┆ Grass  ┆ 55    │\n",
      "│ Exeggcute           ┆ Grass  ┆ 40    │\n",
      "│ Slowpoke            ┆ Water  ┆ 15    │\n",
      "│ Jynx                ┆ Ice    ┆ 95    │\n",
      "└─────────────────────┴────────┴───────┘\n"
     ]
    }
   ],
   "source": [
    "out = filtered.with_columns(\n",
    "    pl.col([\"Name\", \"Speed\"]).sort_by(\"Speed\", descending=True).over(\"Type 1\"),\n",
    ")\n",
    "print(out)"
   ]
  },
  {
   "cell_type": "code",
   "execution_count": 11,
   "metadata": {},
   "outputs": [
    {
     "name": "stdout",
     "output_type": "stream",
     "text": [
      "col(\"foo\").sum().over([col(\"groups\")])\n",
      "[(col(\"x\").sum()) * (col(\"y\"))].over([col(\"groups\")])\n",
      "[(col(\"x\").sum()) * (col(\"y\"))].over([col(\"groups\")])\n",
      "[(col(\"x\").sum()) * (col(\"y\"))].over([col(\"groups\")])\n"
     ]
    }
   ],
   "source": [
    "# aggregate and broadcast within a group\n",
    "# output type: -> Int32\n",
    "print(pl.sum(\"foo\").over(\"groups\"))\n",
    "\n",
    "# sum within a group and multiply with group elements\n",
    "# output type: -> Int32\n",
    "print((pl.col(\"x\").sum() * pl.col(\"y\")).over(\"groups\"))\n",
    "\n",
    "# sum within a group and multiply with group elements\n",
    "# and aggregate the group to a list\n",
    "# output type: -> List(Int32)\n",
    "print((pl.col(\"x\").sum() * pl.col(\"y\")).over(\"groups\", mapping_strategy=\"join\"))\n",
    "\n",
    "# sum within a group and multiply with group elements\n",
    "# and aggregate the group to a list\n",
    "# then explode the list to multiple rows\n",
    "\n",
    "# This is the fastest method to do things over groups when the groups are sorted\n",
    "print((pl.col(\"x\").sum() * pl.col(\"y\")).over(\"groups\", mapping_strategy=\"explode\"))"
   ]
  },
  {
   "cell_type": "code",
   "execution_count": 10,
   "metadata": {},
   "outputs": [
    {
     "name": "stdout",
     "output_type": "stream",
     "text": [
      "shape: (43, 4)\n",
      "┌────────┬───────────────────────┬───────────────────────┬─────────────────────────┐\n",
      "│ Type 1 ┆ fastest/group         ┆ strongest/group       ┆ sorted_by_alphabet      │\n",
      "│ ---    ┆ ---                   ┆ ---                   ┆ ---                     │\n",
      "│ str    ┆ str                   ┆ str                   ┆ str                     │\n",
      "╞════════╪═══════════════════════╪═══════════════════════╪═════════════════════════╡\n",
      "│ Bug    ┆ BeedrillMega Beedrill ┆ PinsirMega Pinsir     ┆ Beedrill                │\n",
      "│ Bug    ┆ Scyther               ┆ BeedrillMega Beedrill ┆ BeedrillMega Beedrill   │\n",
      "│ Bug    ┆ PinsirMega Pinsir     ┆ Pinsir                ┆ Butterfree              │\n",
      "│ Dragon ┆ Dragonite             ┆ Dragonite             ┆ Dragonair               │\n",
      "│ …      ┆ …                     ┆ …                     ┆ …                       │\n",
      "│ Rock   ┆ Kabutops              ┆ Kabutops              ┆ Geodude                 │\n",
      "│ Water  ┆ Starmie               ┆ GyaradosMega Gyarados ┆ Blastoise               │\n",
      "│ Water  ┆ Tentacruel            ┆ Kingler               ┆ BlastoiseMega Blastoise │\n",
      "│ Water  ┆ Poliwag               ┆ Gyarados              ┆ Cloyster                │\n",
      "└────────┴───────────────────────┴───────────────────────┴─────────────────────────┘\n"
     ]
    }
   ],
   "source": [
    "out = df.sort(\"Type 1\").select(\n",
    "    pl.col(\"Type 1\").head(3).over(\"Type 1\", mapping_strategy=\"explode\"),\n",
    "    pl.col(\"Name\")\n",
    "    .sort_by(pl.col(\"Speed\"), descending=True)\n",
    "    .head(3)\n",
    "    .over(\"Type 1\", mapping_strategy=\"explode\")\n",
    "    .alias(\"fastest/group\"),\n",
    "    pl.col(\"Name\")\n",
    "    .sort_by(pl.col(\"Attack\"), descending=True)\n",
    "    .head(3)\n",
    "    .over(\"Type 1\", mapping_strategy=\"explode\")\n",
    "    .alias(\"strongest/group\"),\n",
    "    pl.col(\"Name\")\n",
    "    .sort()\n",
    "    .head(3)\n",
    "    .over(\"Type 1\", mapping_strategy=\"explode\")\n",
    "    .alias(\"sorted_by_alphabet\"),\n",
    ")\n",
    "print(out)"
   ]
  }
 ],
 "metadata": {
  "kernelspec": {
   "display_name": "forecasting",
   "language": "python",
   "name": "python3"
  },
  "language_info": {
   "codemirror_mode": {
    "name": "ipython",
    "version": 3
   },
   "file_extension": ".py",
   "mimetype": "text/x-python",
   "name": "python",
   "nbconvert_exporter": "python",
   "pygments_lexer": "ipython3",
   "version": "3.9.16"
  },
  "orig_nbformat": 4
 },
 "nbformat": 4,
 "nbformat_minor": 2
}
